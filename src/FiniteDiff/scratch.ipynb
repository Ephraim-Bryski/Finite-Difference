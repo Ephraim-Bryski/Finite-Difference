{
 "cells": [
  {
   "cell_type": "code",
   "execution_count": null,
   "metadata": {},
   "outputs": [
    {
     "data": {
      "application/vnd.jupyter.widget-view+json": {
       "model_id": "191c2bd15d4346c385a4ab5f48f2b85f",
       "version_major": 2,
       "version_minor": 0
      },
      "text/plain": [
       "interactive(children=(Dropdown(description='Field', options=('boop',), value='boop'), FloatSlider(value=1.0, d…"
      ]
     },
     "metadata": {},
     "output_type": "display_data"
    },
    {
     "data": {
      "application/vnd.jupyter.widget-view+json": {
       "model_id": "2bc0d50d292342ebb7c51bda6b8ee73e",
       "version_major": 2,
       "version_minor": 0
      },
      "image/png": "[encoded data removed]",
      "text/html": [
       "\n",
       "            <div style=\"display: inline-block;\">\n",
       "                <div class=\"jupyter-widgets widget-label\" style=\"text-align: center;\">\n",
       "                    Figure\n",
       "                </div>\n",
       "                <img src='data:image/png;base64,iVBORw0KGgoAAAANSUhEUgAAAlgAAAGQCAYAAAByNR6YAAAAOXRFWHRTb2Z0d2FyZQBNYXRwbG90bGliIHZlcnNpb24zLjcuMSwgaHR0cHM6Ly9tYXRwbG90bGliLm9yZy/bCgiHAAAACXBIWXMAAA9hAAAPYQGoP6dpAAAci0lEQVR4nO3df4xV9Z3/8ffA2MuEDiMQfsysMziilQooGlwXcbVWakOVwH4brYbaWd1mN+64Olrdhd3gllUYNbtKbN1BjV8hKrW2DdiaKgFWoa6CgMXAdqOgWGdRtGn1XqD11s7c7x/NTnaW4YLffJxzp/N4JOePe+be5JUrwjPn3JmpKpVKpQAAIJkhWQ8AAPhDI7AAABITWAAAiQksAIDEBBYAQGICCwAgMYEFAJCYwAIASExgAQAkJrAAABITWAAAiQksAIDEBBYAQGICCwAgMYEFAJCYwAIASExgAQAkJrAAABITWAAAiQksAIDEBBYAQGICCwAgMYEFAJCYwAIASExgAQAkJrAAABITWAAAiQksAIDEBBYAQGICCwAgMYEFAJCYwAIASExgAQAkJrAAABITWAAAiQksAIDEBBYAQGICCwAgMYEFAJCYwAIASExgAQAkJrAAABITWAAAiQmsQW7Tpk0xZ86caGhoiKqqqlizZk2vr5dKpbj11lujvr4+ampqYtasWbF79+5sxgLAACGwBrlDhw7FGWecEffdd1+fX7/rrrvi3nvvjeXLl8eWLVti+PDh8cUvfjE+/PDDfl4KAANHValUKmU9gspQVVUVq1evjnnz5kXE769eNTQ0xDe+8Y24+eabIyIin8/HuHHjYsWKFXHFFVdkuBYAKld11gOoXHv37o39+/fHrFmzes7V1dXFOeecEy+++OIRA6tYLEaxWOx53N3dHb/61a9i9OjRUVVV9YnvBviklEqlOHDgQDQ0NMSQIW4CcWQCiyPav39/RESMGzeu1/lx48b1fK0v7e3tsXjx4k90G0CWOjs744QTTsh6BhVMYJHcwoUL46abbup5nM/no6mpKc6LL0V1HJfhMvryxh1nZz2BPrzyf/5v1hPoQ+Fgd0w4682ora3NegoVTmBxROPHj4+IiHfffTfq6+t7zr/77rsxbdq0I74ul8tFLpc77Hx1HBfVVQKr0gwZNizrCfRhRK3bT5XMxx04Gv8Hc0TNzc0xfvz42LBhQ8+5QqEQW7ZsiRkzZmS4DAAqmytYg9zBgwdjz549PY/37t0bO3bsiFGjRkVTU1O0tbXF7bffHqeccko0NzfHokWLoqGhoec7DQGAwwmsQW7btm1x4YUX9jz+789OtbS0xIoVK+Jv//Zv49ChQ/GXf/mX8cEHH8R5550XzzzzTAxzWwkAjsjPweITVygUoq6uLj4Xc30GqwLtuedPsp5AH17/yvKsJ9CHwoHuGPmZNyKfz8eIESOynkMF8xksAIDEBBYAQGICCwAgMYEFAJCYwAIASExgAQAkJrAAABITWAAAiQksAIDEBBYAQGICCwAgMYEFAJCYwAIASExgAQAkJrAAABITWAAAiQksAIDEBBYAQGICCwAgMYEFAJCYwAIASExgAQAkJrAAABITWBzVgQMHoq2tLSZMmBA1NTVx7rnnxtatW7OeBQAVS2BxVF//+tdj3bp18cgjj8TOnTvj4osvjlmzZsW+ffuyngYAFUlgUdZvfvOb+MEPfhB33XVXnH/++XHyySfHN7/5zTj55JOjo6Mj63kAUJGqsx5AZfvd734XXV1dMWzYsF7na2pq4vnnn+/zNcViMYrFYs/jQqHwiW4EgErjChZl1dbWxowZM+K2226Lt99+O7q6uuLRRx+NF198Md55550+X9Pe3h51dXU9R2NjYz+vBoBsCSyO6pFHHolSqRR/9Ed/FLlcLu6999648sorY8iQvv/4LFy4MPL5fM/R2dnZz4sBIFtuEXJUEydOjI0bN8ahQ4eiUChEfX19fOUrX4mTTjqpz+fncrnI5XL9vBIAKocrWByz4cOHR319fbz//vuxdu3amDt3btaTAKAiuYLFUa1duzZKpVKceuqpsWfPnrjlllti0qRJcfXVV2c9DQAqkitYHFU+n4/W1taYNGlSfO1rX4vzzjsv1q5dG8cdd1zW0wCgIrmCxVFdfvnlcfnll2c9AwAGDFewAAASE1gAAIkJLACAxAQWAEBiAgsAIDGBBQCQmMACAEhMYAEAJCawAAASE1gAAIkJLACAxAQWAEBiAgsAIDGBBQCQmMACAEhMYAEAJCawAAASE1gAAIkJLACAxAQWAEBiAgsAIDGBBQCQmMACAEhMYFFWV1dXLFq0KJqbm6OmpiYmTpwYt912W5RKpaynAUDFqs56AJXtzjvvjI6Ojli5cmVMnjw5tm3bFldffXXU1dXF9ddfn/U8AKhIAouyXnjhhZg7d25ccsklERFx4oknxne+85146aWXMl4GAJXLLULKOvfcc2PDhg3x2muvRUTEK6+8Es8//3zMnj37iK8pFotRKBR6HQAwmLiCRVkLFiyIQqEQkyZNiqFDh0ZXV1csWbIk5s+ff8TXtLe3x+LFi/txJQBUFlewKOuJJ56Ixx57LFatWhUvv/xyrFy5Mv75n/85Vq5cecTXLFy4MPL5fM/R2dnZj4sBIHuuYFHWLbfcEgsWLIgrrrgiIiKmTp0aP//5z6O9vT1aWlr6fE0ul4tcLtefMwGgoriCRVm//vWvY8iQ3n9Mhg4dGt3d3RktAoDK5woWZc2ZMyeWLFkSTU1NMXny5PjpT38ad999d1xzzTVZTwOAiiWwKOtb3/pWLFq0KP76r/863nvvvWhoaIi/+qu/iltvvTXraQBQsQQWZdXW1sayZcti2bJlWU8BgAHDZ7AAABITWAAAiQksAIDEBBYAQGICCwAgMYEFAJCYwAIASExgAQAkJrAAABITWAAAiQksAIDEBBYAQGICCwAgMYEFAJCYwAIASExgAQAkJrAAABITWAAAiQksAIDEBBYAQGICCwAgMYEFAJCYwAIASExgUdaJJ54YVVVVhx2tra1ZTwOAilWd9QAq29atW6Orq6vn8a5du+ILX/hCXHbZZRmuAoDKJrAoa8yYMb0e33HHHTFx4sS44IILMloEAJXPLUKO2W9/+9t49NFH45prromqqqqs5wBAxXIFi2O2Zs2a+OCDD+LP//zPyz6vWCxGsVjseVwoFD7hZQBQWVzB4pg99NBDMXv27GhoaCj7vPb29qirq+s5Ghsb+2khAFQGgcUx+fnPfx7r16+Pr3/960d97sKFCyOfz/ccnZ2d/bAQACqHW4Qck4cffjjGjh0bl1xyyVGfm8vlIpfL9cMqAKhMrmBxVN3d3fHwww9HS0tLVFdrcgA4GoHFUa1fvz7eeuutuOaaa7KeAgADgssRHNXFF18cpVIp6xkAMGC4ggUAkJjAAgBITGABACQmsAAAEhNYAACJCSwAgMQEFgBAYgILACAxgQUAkJjAAgBITGABACQmsAAAEhNYAACJCSwAgMQEFgBAYgILACAxgQUAkJjAAgBITGABACQmsAAAEhNYAACJCSwAgMQEFgBAYgKLo9q3b1989atfjdGjR0dNTU1MnTo1tm3blvUsAKhY1VkPoLK9//77MXPmzLjwwgvj6aefjjFjxsTu3btj5MiRWU8DgIolsCjrzjvvjMbGxnj44Yd7zjU3N2e4CAAqn1uElPXDH/4wpk+fHpdddlmMHTs2zjzzzHjwwQezngUAFU1gUdYbb7wRHR0dccopp8TatWvj2muvjeuvvz5Wrlx5xNcUi8UoFAq9DgAYTNwipKzu7u6YPn16LF26NCIizjzzzNi1a1csX748Wlpa+nxNe3t7LF68uD9nAkBFcQWLsurr6+O0007rde6zn/1svPXWW0d8zcKFCyOfz/ccnZ2dn/RMAKgormBR1syZM+PVV1/tde61116LCRMmHPE1uVwucrncJz0NACqWK1iUdeONN8bmzZtj6dKlsWfPnli1alU88MAD0dramvU0AKhYAouyzj777Fi9enV85zvfiSlTpsRtt90Wy5Yti/nz52c9DQAqlluEHNWll14al156adYzAGDAcAULACAxgQUAkJjAAgBITGABACQmsAAAEhNYAACJCSwAgMQEFgBAYgJrAGppaYlNmzZlPQMAOAKBNQDl8/mYNWtWnHLKKbF06dLYt29f1pMAgP9BYA1Aa9asiX379sW1114b3/3ud+PEE0+M2bNnx/e///346KOPsp4HAIOewBqgxowZEzfddFO88sorsWXLljj55JPjqquuioaGhrjxxhtj9+7dWU8EgEFLYA1w77zzTqxbty7WrVsXQ4cOjS996Uuxc+fOOO200+Kee+7Jeh4ADEoCawD66KOP4gc/+EFceumlMWHChPje974XbW1t8fbbb8fKlStj/fr18cQTT8Q//dM/ZT0VAAal6qwH8PHV19dHd3d3XHnllfHSSy/FtGnTDnvOhRdeGMcff3y/bwMABNaAdM8998Rll10Ww4YNO+Jzjj/++Ni7d28/rgIA/pvAGoCuuuqqrCcAAGX4DBYAQGICCwAgMYEFAJCYwAIASExgAQAkJrAAABITWAAAiQksyvrmN78ZVVVVvY5JkyZlPQsAKpofNMpRTZ48OdavX9/zuLraHxsAKMe/lBxVdXV1jB8/PusZADBguEXIUe3evTsaGhripJNOivnz58dbb71V9vnFYjEKhUKvAwAGE4FFWeecc06sWLEinnnmmejo6Ii9e/fGn/7pn8aBAweO+Jr29vaoq6vrORobG/txMQBkr6pUKpWyHsHA8cEHH8SECRPi7rvvjr/4i7/o8znFYjGKxWLP40KhEI2NjfG5mBvVVcf111SO0Z57/iTrCfTh9a8sz3oCfSgc6I6Rn3kj8vl8jBgxIus5VDCfweJjOf744+Mzn/lM7Nmz54jPyeVykcvl+nEVAFQWtwj5WA4ePBivv/561NfXZz0FACqWwKKsm2++OTZu3BhvvvlmvPDCC/Fnf/ZnMXTo0LjyyiuzngYAFcstQsr6r//6r7jyyivjl7/8ZYwZMybOO++82Lx5c4wZMybraQBQsQQWZT3++ONZTwCAAcctQgCAxAQWAEBiAgsAIDGBBQCQmMACAEhMYAEAJCawAAASE1gAAIkJLACAxAQWAEBiAgsAIDGBBQCQmMACAEhMYAEAJCawAAASE1gAAIkJLACAxAQWAEBiAgsAIDGBBQCQmMACAEhMYAEAJCawAAASE1h8LHfccUdUVVVFW1tb1lMAoGIJLI7Z1q1b4/7774/TTz896ykAUNEEFsfk4MGDMX/+/HjwwQdj5MiRWc8BgIomsDgmra2tcckll8SsWbOO+txisRiFQqHXAQCDSXXWA6h8jz/+eLz88suxdevWY3p+e3t7LF68+BNeBQCVyxUsyurs7IwbbrghHnvssRg2bNgxvWbhwoWRz+d7js7Ozk94JQBUFlewKGv79u3x3nvvxVlnndVzrqurKzZt2hTf/va3o1gsxtChQ3u9JpfLRS6X6++pAFAxBBZlXXTRRbFz585e566++uqYNGlS/N3f/d1hcQUACCyOora2NqZMmdLr3PDhw2P06NGHnQcAfs9nsAAAEnMFi4/tueeey3oCAFQ0V7AAABITWAAAiQksAIDEBBYAQGICCwAgMYEFAJCYwAIASExgAQAkJrAAABITWAAAiQksAIDEBBYAQGICCwAgMYEFAJCYwAIASExgAQAkJrAAABITWAAAiQksAIDEBBYAQGICCwAgMYEFAJCYwAIASExgUVZHR0ecfvrpMWLEiBgxYkTMmDEjnn766axnAUBFE1iUdcIJJ8Qdd9wR27dvj23btsXnP//5mDt3bvzHf/xH1tMAoGJVZz2AyjZnzpxej5csWRIdHR2xefPmmDx5ckarAKCyCSyOWVdXV3zve9+LQ4cOxYwZM7KeAwAVS2BxVDt37owZM2bEhx9+GJ/+9Kdj9erVcdpppx3x+cViMYrFYs/jQqHQHzMBoGL4DBZHdeqpp8aOHTtiy5Ytce2110ZLS0v87Gc/O+Lz29vbo66urudobGzsx7UAkL2qUqlUynoEA8usWbNi4sSJcf/99/f59b6uYDU2NsbnYm5UVx3XXzM5Rnvu+ZOsJ9CH17+yPOsJ9KFwoDtGfuaNyOfzMWLEiKznUMHcIuRj6+7u7hVQ/1sul4tcLtePiwCgsggsylq4cGHMnj07mpqa4sCBA7Fq1ap47rnnYu3atVlPA4CKJbAo67333ouvfe1r8c4770RdXV2cfvrpsXbt2vjCF76Q9TQAqFgCi7IeeuihrCcAwIDjuwgBABITWAAAiQksAIDEBBYAQGICCwAgMYEFAJCYwAIASExgAQAkJrAAABITWAAAiQksAIDEBBYAQGICCwAgMYEFAJCYwAIASExgAQAkJrAAABITWAAAiQksAIDEBBYAQGICCwAgMYEFAJCYwAIASExgUVZ7e3ucffbZUVtbG2PHjo158+bFq6++mvUsAKhoAouyNm7cGK2trbF58+ZYt25dfPTRR3HxxRfHoUOHsp4GABWrOusBVLZnnnmm1+MVK1bE2LFjY/v27XH++edntAoAKpsrWHws+Xw+IiJGjRqV8RIAqFyuYHHMuru7o62tLWbOnBlTpkw54vOKxWIUi8Wex4VCoT/mAUDFcAWLY9ba2hq7du2Kxx9/vOzz2tvbo66urudobGzsp4UAUBkEFsfkuuuui6eeeiqeffbZOOGEE8o+d+HChZHP53uOzs7OfloJAJXBLULKKpVK8Td/8zexevXqeO6556K5ufmor8nlcpHL5fphHQBUJoFFWa2trbFq1ap48skno7a2Nvbv3x8REXV1dVFTU5PxOgCoTG4RUlZHR0fk8/n43Oc+F/X19T3Hd7/73aynAUDFcgWLskqlUtYTAGDAcQULACAxgQUAkJjAAgBITGABACQmsAAAEhNYAACJCSwAgMQEFgBAYgILACAxgQUAkJjAAgBITGABACQmsAAAEhNYAACJCSwAgMQEFgBAYgILACAxgQUAkJjAAgBITGABACQmsAAAEhNYAACJCSwAgMQEFgBAYgKLsjZt2hRz5syJhoaGqKqqijVr1mQ9CQAqnsCirEOHDsUZZ5wR9913X9ZTAGDAqM56AJVt9uzZMXv27KxnAMCAIrBIrlgsRrFY7Hmcz+cjIuJ38VFEKatVHEn3hx9mPYE+FA50Zz2BPhQO/v6/S6nkLzPKE1gk197eHosXLz7s/PPx4wzWcFQLnsx6AX0YuSDrBZTzy1/+Murq6rKeQQWrKslwjlFVVVWsXr065s2bV/Z5//sKVnd3d/zqV7+K0aNHR1VV1Se88sgKhUI0NjZGZ2dnjBgxIrMdlcL7cTjvSW/ej8Pl8/loamqK999/P44//vis51DBXMEiuVwuF7lcrte5SvqLaMSIEf6x+B+8H4fznvTm/TjckCG+R4zy/AkBAEjMFSzKOnjwYOzZs6fn8d69e2PHjh0xatSoaGpqynAZAFQugUVZ27ZtiwsvvLDn8U033RQRES0tLbFixYqMVv3/yeVy8Y//+I+H3b4crLwfh/Oe9Ob9OJz3hGPlQ+4AAIn5DBYAQGICCwAgMYEFAJCYwAIASExg8Qetvb09zj777KitrY2xY8fGvHnz4tVXX816VsW44447oqqqKtra2rKekql9+/bFV7/61Rg9enTU1NTE1KlTY9u2bVnPykxXV1csWrQompubo6amJiZOnBi33XbboPn9e5s2bYo5c+ZEQ0NDVFVVxZo1a3p9vVQqxa233hr19fVRU1MTs2bNit27d2czloolsPiDtnHjxmhtbY3NmzfHunXr4qOPPoqLL744Dh06lPW0zG3dujXuv//+OP3007Oekqn3338/Zs6cGccdd1w8/fTT8bOf/Sz+5V/+JUaOHJn1tMzceeed0dHREd/+9rfjP//zP+POO++Mu+66K771rW9lPa1fHDp0KM4444y47777+vz6XXfdFffee28sX748tmzZEsOHD48vfvGL8aFfnM7/4Mc0MKj84he/iLFjx8bGjRvj/PPPz3pOZg4ePBhnnXVW/Ou//mvcfvvtMW3atFi2bFnWszKxYMGC+Pd///f4yU9+kvWUinHppZfGuHHj4qGHHuo59+Uvfzlqamri0UcfzXBZ//vfv4O1VCpFQ0NDfOMb34ibb745In7/+wnHjRsXK1asiCuuuCLDtVQSV7AYVPL5fEREjBo1KuMl2WptbY1LLrkkZs2alfWUzP3whz+M6dOnx2WXXRZjx46NM888Mx588MGsZ2Xq3HPPjQ0bNsRrr70WERGvvPJKPP/88zF79uyMl2Vv7969sX///l7/79TV1cU555wTL774YobLqDR+kjuDRnd3d7S1tcXMmTNjypQpWc/JzOOPPx4vv/xybN26NespFeGNN96Ijo6OuOmmm+Lv//7vY+vWrXH99dfHpz71qWhpacl6XiYWLFgQhUIhJk2aFEOHDo2urq5YsmRJzJ8/P+tpmdu/f39ERIwbN67X+XHjxvV8DSIEFoNIa2tr7Nq1K55//vmsp2Sms7Mzbrjhhli3bl0MGzYs6zkVobu7O6ZPnx5Lly6NiIgzzzwzdu3aFcuXLx+0gfXEE0/EY489FqtWrYrJkyfHjh07oq2tLRoaGgbtewIfl1uEDArXXXddPPXUU/Hss8/GCSeckPWczGzfvj3ee++9OOuss6K6ujqqq6tj48aNce+990Z1dXV0dXVlPbHf1dfXx2mnndbr3Gc/+9l46623MlqUvVtuuSUWLFgQV1xxRUydOjWuuuqquPHGG6O9vT3raZkbP358RES8++67vc6/++67PV+DCIHFH7hSqRTXXXddrF69Ov7t3/4tmpubs56UqYsuuih27twZO3bs6DmmT58e8+fPjx07dsTQoUOzntjvZs6cediP7njttddiwoQJGS3K3q9//esYMqT3Pw9Dhw6N7u7ujBZVjubm5hg/fnxs2LCh51yhUIgtW7bEjBkzMlxGpXGLkD9ora2tsWrVqnjyySejtra25zMSdXV1UVNTk/G6/ldbW3vY58+GDx8eo0ePHrSfS7vxxhvj3HPPjaVLl8bll18eL730UjzwwAPxwAMPZD0tM3PmzIklS5ZEU1NTTJ48OX7605/G3XffHddcc03W0/rFwYMHY8+ePT2P9+7dGzt27IhRo0ZFU1NTtLW1xe233x6nnHJKNDc3x6JFi6KhoaHnOw0hIiJK8AcsIvo8Hn744aynVYwLLrigdMMNN2Q9I1M/+tGPSlOmTCnlcrnSpEmTSg888EDWkzJVKBRKN9xwQ6mpqak0bNiw0kknnVT6h3/4h1KxWMx6Wr949tln+/x7o6WlpVQqlUrd3d2lRYsWlcaNG1fK5XKliy66qPTqq69mO5qK4+dgAQAk5jNYAACJCSwAgMQEFgBAYgILACAxgQUAkJjAAgBITGABACQmsAAAEhNYAACJCSwAgMQEFjBg/eIXv4jx48fH0qVLe8698MIL8alPfSo2bNiQ4TJgsPO7CIEB7cc//nHMmzcvXnjhhTj11FNj2rRpMXfu3Lj77ruzngYMYgILGPBaW1tj/fr1MX369Ni5c2ds3bo1crlc1rOAQUxgAQPeb37zm5gyZUp0dnbG9u3bY+rUqVlPAgY5n8ECBrzXX3893n777eju7o4333wz6zkArmABA9tvf/vb+OM//uOYNm1anHrqqbFs2bLYuXNnjB07NutpwCAmsIAB7ZZbbonvf//78corr8SnP/3puOCCC6Kuri6eeuqprKcBg5hbhMCA9dxzz8WyZcvikUceiREjRsSQIUPikUceiZ/85CfR0dGR9TxgEHMFCwAgMVewAAASE1gAAIkJLACAxP4flF7WCwO0iwQAAAAASUVORK5CYII=' width=600.0/>\n",
       "            </div>\n",
       "        "
      ],
      "text/plain": [
       "Canvas(toolbar=Toolbar(toolitems=[('Home', 'Reset original view', 'home', 'home'), ('Back', 'Back to previous …"
      ]
     },
     "metadata": {},
     "output_type": "display_data"
    }
   ],
   "source": [
    "import FD as FD\n",
    "\n",
    "import importlib\n",
    "importlib.reload(FD)\n",
    "%matplotlib widget\n",
    "\n",
    "import numpy as np\n",
    "\n",
    "try:\n",
    "    m = FD.Model(3)\n",
    "except Exception as e:\n",
    "    print(e)\n"
   ]
  },
  {
   "cell_type": "code",
   "execution_count": 20,
   "metadata": {},
   "outputs": [
    {
     "name": "stdout",
     "output_type": "stream",
     "text": [
      "[FrameInfo(frame=<frame at 0x0000017377DC8580, file 'C:\\\\Users\\\\Ephraim\\\\AppData\\\\Local\\\\Temp\\\\ipykernel_18812\\\\267845705.py', line 14, code tester>, filename='C:\\\\Users\\\\Ephraim\\\\AppData\\\\Local\\\\Temp\\\\ipykernel_18812\\\\267845705.py', lineno=11, function='tester', code_context=['        main_func()\\n'], index=0, positions=Positions(lineno=11, end_lineno=11, col_offset=8, end_col_offset=19)), FrameInfo(frame=<frame at 0x0000017377F731A0, file 'C:\\\\Users\\\\Ephraim\\\\AppData\\\\Local\\\\Temp\\\\ipykernel_18812\\\\267845705.py', line 5, code main_func>, filename='C:\\\\Users\\\\Ephraim\\\\AppData\\\\Local\\\\Temp\\\\ipykernel_18812\\\\267845705.py', lineno=5, function='main_func', code_context=['    sdf\\n'], index=0, positions=Positions(lineno=5, end_lineno=5, col_offset=4, end_col_offset=7))]\n"
     ]
    }
   ],
   "source": [
    "import inspect\n",
    "\n",
    "def main_func():\n",
    "    # Code logic that may raise an error\n",
    "    sdf\n",
    "    raise ValueError(\n",
    "        \"Error message\")\n",
    "\n",
    "def tester():\n",
    "    try:\n",
    "        main_func()\n",
    "    except Exception as e:\n",
    "        frames = inspect.getinnerframes(e.__traceback__)\n",
    "        print(frames)\n",
    "        return frames\n",
    "\n",
    "frames = tester()"
   ]
  },
  {
   "cell_type": "code",
   "execution_count": 21,
   "metadata": {},
   "outputs": [
    {
     "data": {
      "text/plain": [
       "['    sdf\\n']"
      ]
     },
     "execution_count": 21,
     "metadata": {},
     "output_type": "execute_result"
    }
   ],
   "source": [
    "frame1 = frames[-1]\n",
    "frame1.code_context"
   ]
  }
 ],
 "metadata": {
  "kernelspec": {
   "display_name": "Python 3",
   "language": "python",
   "name": "python3"
  },
  "language_info": {
   "codemirror_mode": {
    "name": "ipython",
    "version": 3
   },
   "file_extension": ".py",
   "mimetype": "text/x-python",
   "name": "python",
   "nbconvert_exporter": "python",
   "pygments_lexer": "ipython3",
   "version": "3.11.3"
  },
  "orig_nbformat": 4,
  "stencilspec": {
   "display_name": "Python 3",
   "language": "python",
   "name": "python3"
  }
 },
 "nbformat": 4,
 "nbformat_minor": 2
}
