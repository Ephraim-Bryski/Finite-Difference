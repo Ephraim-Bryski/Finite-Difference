{
 "cells": [
  {
   "cell_type": "code",
   "execution_count": 30,
   "metadata": {},
   "outputs": [
    {
     "data": {
      "application/vnd.jupyter.widget-view+json": {
       "model_id": "bbeba2bc31cf4a44807661e0808d83bd",
       "version_major": 2,
       "version_minor": 0
      },
      "text/plain": [
       "interactive(children=(Dropdown(description='Field', options=('boop dot', 'boop'), value='boop dot'), FloatSlid…"
      ]
     },
     "metadata": {},
     "output_type": "display_data"
    },
    {
     "data": {
      "application/vnd.jupyter.widget-view+json": {
       "model_id": "6b14bd2bb79b4d1aad5a47235fd176c0",
       "version_major": 2,
       "version_minor": 0
      },
      "image/png": "[encoded data removed]",
      "text/html": [
       "\n",
       "            <div style=\"display: inline-block;\">\n",
       "                <div class=\"jupyter-widgets widget-label\" style=\"text-align: center;\">\n",
       "                    Figure\n",
       "                </div>\n",
       "                <img src='data:image/png;base64,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' width=600.0/>\n",
       "            </div>\n",
       "        "
      ],
      "text/plain": [
       "Canvas(toolbar=Toolbar(toolitems=[('Home', 'Reset original view', 'home', 'home'), ('Back', 'Back to previous …"
      ]
     },
     "metadata": {},
     "output_type": "display_data"
    }
   ],
   "source": [
    "import FD as FD\n",
    "\n",
    "import importlib\n",
    "importlib.reload(FD)\n",
    "%matplotlib widget\n",
    "\n",
    "import numpy as np\n",
    "\n",
    "\n",
    "m = FD.Model({\"x\":range(1,10),\"y\":np.linspace(1,10,100),\"t\":np.linspace(1,10,100)},time_axis=\"t\")\n",
    "\n",
    "#m = FD.Model({\"x\":range(1,5),\"t\":range(1,10)},time_axis=\"t\")\n",
    "\n",
    "f = FD.Field(m,\"boop\",n_time_ders=1,edge_axes=\"x\")\n",
    "f.set_IC(\"x\")\n",
    "\n",
    "f.prev+f.prev\n",
    "\n",
    "m.interact()\n"
   ]
  },
  {
   "cell_type": "code",
   "execution_count": null,
   "metadata": {},
   "outputs": [
    {
     "name": "stdout",
     "output_type": "stream",
     "text": [
      "['y4y', 'y', 'z']\n"
     ]
    }
   ],
   "source": [
    "import re\n",
    "\n",
    "def extract_variables(expression):\n",
    "    pattern = r'\\b[A-Za-z_][A-Za-z0-9_]*\\b'  # Regular expression pattern for variable names\n",
    "    variables = re.findall(pattern, expression)\n",
    "    return variables\n",
    "\n",
    "# Example usage\n",
    "math_expression = \"3 * y4y + 2 * y - z\"\n",
    "variables = extract_variables(math_expression)\n",
    "print(variables)  # Output: ['x', 'y', 'z']\n",
    "\n",
    "np.array([],dtype=)"
   ]
  },
  {
   "cell_type": "code",
   "execution_count": 25,
   "metadata": {},
   "outputs": [
    {
     "ename": "AssertionError",
     "evalue": "time axis must be one of the axes",
     "output_type": "error",
     "traceback": [
      "\u001b[1;31m---------------------------------------------------------------------------\u001b[0m",
      "\u001b[1;31mAssertionError\u001b[0m                            Traceback (most recent call last)",
      "Cell \u001b[1;32mIn[25], line 4\u001b[0m\n\u001b[0;32m      2\u001b[0m \u001b[39mimport\u001b[39;00m \u001b[39mimportlib\u001b[39;00m\n\u001b[0;32m      3\u001b[0m importlib\u001b[39m.\u001b[39mreload(FD)\n\u001b[1;32m----> 4\u001b[0m FD\u001b[39m.\u001b[39;49mModel({\u001b[39m\"\u001b[39;49m\u001b[39ma\u001b[39;49m\u001b[39m\"\u001b[39;49m:[\u001b[39m3\u001b[39;49m,\u001b[39m4\u001b[39;49m,\u001b[39m5\u001b[39;49m]},\u001b[39m\"\u001b[39;49m\u001b[39mb\u001b[39;49m\u001b[39m\"\u001b[39;49m)\n",
      "File \u001b[1;32mc:\\Users\\Ephraim\\GitHub\\FiniteDiff\\src\\FiniteDiff\\FD.py:51\u001b[0m, in \u001b[0;36mModel.__init__\u001b[1;34m(self, axes, time_axis, periodic)\u001b[0m\n\u001b[0;32m     48\u001b[0m \u001b[39massert\u001b[39;00m non_axes_periodic\u001b[39m==\u001b[39m\u001b[39mset\u001b[39m(), \u001b[39mf\u001b[39m\u001b[39m\"\u001b[39m\u001b[39m{\u001b[39;00mnon_axes_periodic\u001b[39m}\u001b[39;00m\u001b[39m is/are not axes names\u001b[39m\u001b[39m\"\u001b[39m\n\u001b[0;32m     50\u001b[0m \u001b[39massert\u001b[39;00m \u001b[39mtype\u001b[39m(time_axis)\u001b[39m==\u001b[39m\u001b[39mstr\u001b[39m, \u001b[39m\"\u001b[39m\u001b[39mtime axis must be a string\u001b[39m\u001b[39m\"\u001b[39m\n\u001b[1;32m---> 51\u001b[0m \u001b[39massert\u001b[39;00m time_axis \u001b[39min\u001b[39;00m axes, \u001b[39mf\u001b[39m\u001b[39m\"\u001b[39m\u001b[39mtime axis must be one of the axes\u001b[39m\u001b[39m\"\u001b[39m\n\u001b[0;32m     52\u001b[0m \u001b[39massert\u001b[39;00m time_axis \u001b[39mnot\u001b[39;00m \u001b[39min\u001b[39;00m periodic, \u001b[39m\"\u001b[39m\u001b[39mtime axis cant be periodic\u001b[39m\u001b[39m\"\u001b[39m\n\u001b[0;32m     54\u001b[0m \u001b[39massert\u001b[39;00m \u001b[39mtype\u001b[39m(axes)\u001b[39m==\u001b[39m\u001b[39mdict\u001b[39m, \u001b[39m\"\u001b[39m\u001b[39maxes must be input dictionary of dimensions and range of values\u001b[39m\u001b[39m\"\u001b[39m\n",
      "\u001b[1;31mAssertionError\u001b[0m: time axis must be one of the axes"
     ]
    }
   ],
   "source": [
    "import FD as FD\n",
    "import importlib\n",
    "importlib.reload(FD)\n",
    "FD.Model({\"a\":[3,4,5]},\"b\")"
   ]
  },
  {
   "cell_type": "code",
   "execution_count": 27,
   "metadata": {},
   "outputs": [
    {
     "data": {
      "text/plain": [
       "True"
      ]
     },
     "execution_count": 27,
     "metadata": {},
     "output_type": "execute_result"
    }
   ],
   "source": [
    "def hi():\n",
    "    pass\n",
    "\n",
    "a = hi()\n",
    "\n",
    "a == None"
   ]
  }
 ],
 "metadata": {
  "kernelspec": {
   "display_name": "Python 3",
   "language": "python",
   "name": "python3"
  },
  "language_info": {
   "codemirror_mode": {
    "name": "ipython",
    "version": 3
   },
   "file_extension": ".py",
   "mimetype": "text/x-python",
   "name": "python",
   "nbconvert_exporter": "python",
   "pygments_lexer": "ipython3",
   "version": "3.11.3"
  },
  "orig_nbformat": 4,
  "stencilspec": {
   "display_name": "Python 3",
   "language": "python",
   "name": "python3"
  }
 },
 "nbformat": 4,
 "nbformat_minor": 2
}
