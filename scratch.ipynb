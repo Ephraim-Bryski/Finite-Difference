{
 "cells": [
  {
   "cell_type": "code",
   "execution_count": 2,
   "metadata": {},
   "outputs": [
    {
     "name": "stdout",
     "output_type": "stream",
     "text": [
      "['a', 'c']\n",
      "[2, 3]\n"
     ]
    }
   ],
   "source": [
    "a = [\"a\",\"b\",\"c\"]\n",
    "b = [2,1,3]\n",
    "\n",
    "\n",
    "exclude = [\"b\"]\n",
    "\n",
    "\n",
    "a_cut = []\n",
    "b_cut = []\n",
    "\n",
    "for pair in zip(a,b):\n",
    "    if pair[0] not in exclude:\n",
    "        a_cut.append(pair[0])\n",
    "        b_cut.append(pair[1])\n",
    "\n",
    "print(a_cut)\n",
    "print(b_cut)"
   ]
  },
  {
   "cell_type": "code",
   "execution_count": 3,
   "metadata": {},
   "outputs": [
    {
     "name": "stdout",
     "output_type": "stream",
     "text": [
      "[1, 3, 5, 7]\n"
     ]
    }
   ],
   "source": [
    "expr = \"x+y\"\n",
    "values = {\"x\":1, \"y\":5}\n",
    "result = eval(expr, {}, values)\n",
    "print(result) # Output: 6\n"
   ]
  },
  {
   "cell_type": "code",
   "execution_count": 1,
   "metadata": {},
   "outputs": [
    {
     "name": "stdout",
     "output_type": "stream",
     "text": [
      "{'x': [3, 3, 3, 4, 4, 4], 'y': [4, 9, 11, 4, 9, 11]}\n"
     ]
    }
   ],
   "source": [
    "import numexpr\n",
    "from sympy.parsing.sympy_parser import parse_expr, standard_transformations, implicit_multiplication_application\n",
    "import itertools\n",
    "import math\n",
    "\n",
    "def transpose(nested_list):\n",
    "    transposed_list = [[row[i] for row in nested_list] for i in range(len(nested_list[0]))]\n",
    "    return transposed_list\n",
    "\n",
    "\n",
    "# not sure if Dimension is really needed, for now it might be easier not to include it\n",
    "# periodic would be in Domain instead\n",
    "# could be helpful for stating which ones are space and time\n",
    "# HOWEVER, this could instead be constructed in Domain\n",
    "class Dimension:\n",
    "    def __init__(self,name,type=None):\n",
    "        self.name = name\n",
    "        self.type = type # could be spatial or time?\n",
    "    \n",
    "    # would want to have other classes which inherit from it for space and time maybe?\n",
    "        # or could be additional property\n",
    "    # useful for talking about spatial concepts like gradient and divergence without explicitly stating the dimensions used\n",
    "    # also will have understanding of which dimension is the time dimension\n",
    "    # also will allow for construction of vector fields\n",
    "\n",
    "        \n",
    "# d = Domain(space={\"x\":range(0,4,0.2)},time={\"t\":range(0,10,0.1)})\n",
    "# d.make_periodic(\"x\")\n",
    "# f = Field(d).set(\"x+3\",location={\"t\":0})\n",
    "\n",
    "# then for one script, you would just use that one domain (could have ways to map from domain to domain but that would be something else)\n",
    "    # so that way, everything in the script knows that \"x\" is a space dimension and \"t\" is a time dimension, since all fields are constructed using that domain\n",
    "\n",
    "\n",
    "class Domain:\n",
    "    def __init__(self,axes):\n",
    "        # dimensions is a dictionary with the dimension object and range\n",
    "\n",
    "        assert type(axes)==dict, \"axes must be input dictionary of dimensions and range of values\"\n",
    "        self.axes = axes\n",
    "\n",
    "\n",
    "        # would also have information like periodicity\n",
    "\n",
    "    # other property functions for what's space and time dimensions\n",
    "\n",
    "\n",
    "\n",
    "class Field:\n",
    "    def __init__(self,domain):\n",
    "        \n",
    "\n",
    "\n",
    "        self.domain = domain\n",
    "\n",
    "\n",
    "        axes_lengths = [len(value) for value in domain.axes.values()]\n",
    "        data_length = math.prod(axes_lengths)\n",
    "\n",
    "        \n",
    "        self.data = [None for _ in range(data_length)]\n",
    "\n",
    "\n",
    "    def set(self,expression,location={}):\n",
    "        # optional arguments for location about whether it's based on index or location (and location exact or just closes to)?\n",
    "        axes = self.domain.axes\n",
    "\n",
    "        dim_values = list(axes.values())\n",
    "        dim_names = [dim.name for dim in axes.keys()]\n",
    "\n",
    "        value_combs = transpose([list(comb) for comb in itertools.product(*dim_values)])\n",
    "        subs = dict(zip(dim_names,value_combs))\n",
    "        print(subs)\n",
    "        try:\n",
    "            data = numexpr.evaluate(expression,subs)\n",
    "        except:\n",
    "            raise Exception(\"either variable mismatch or cannot parse expression\")\n",
    "        \n",
    "\n",
    "        \n",
    "\n",
    "x = Dimension(\"x\")\n",
    "y = Dimension(\"y\")\n",
    "\n",
    "domain = Domain({x:[3,4],y:[4,9,11]})\n",
    "\n",
    "field = Field(domain).set(\"x\",location={x:1})\n",
    "\n",
    "field"
   ]
  },
  {
   "cell_type": "code",
   "execution_count": 6,
   "metadata": {},
   "outputs": [
    {
     "data": {
      "text/plain": [
       "array(20.08553692)"
      ]
     },
     "execution_count": 6,
     "metadata": {},
     "output_type": "execute_result"
    }
   ],
   "source": [
    "import numexpr\n",
    "numexpr.evaluate(\"exp(3)\")"
   ]
  },
  {
   "cell_type": "code",
   "execution_count": null,
   "metadata": {},
   "outputs": [],
   "source": []
  }
 ],
 "metadata": {
  "kernelspec": {
   "display_name": "Python 3",
   "language": "python",
   "name": "python3"
  },
  "language_info": {
   "codemirror_mode": {
    "name": "ipython",
    "version": 3
   },
   "file_extension": ".py",
   "mimetype": "text/x-python",
   "name": "python",
   "nbconvert_exporter": "python",
   "pygments_lexer": "ipython3",
   "version": "3.9.12"
  },
  "orig_nbformat": 4
 },
 "nbformat": 4,
 "nbformat_minor": 2
}
