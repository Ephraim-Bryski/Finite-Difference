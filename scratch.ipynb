{
 "cells": [
  {
   "cell_type": "code",
   "execution_count": 5,
   "metadata": {},
   "outputs": [
    {
     "data": {
      "text/plain": [
       "6"
      ]
     },
     "execution_count": 5,
     "metadata": {},
     "output_type": "execute_result"
    }
   ],
   "source": [
    "class Domain:\n",
    "    def __init__(self) -> None:\n",
    "        self.value = 4\n",
    "    \n",
    "    def increment_time(self):\n",
    "        self.value += 1\n",
    "\n",
    "class Field:\n",
    "    def __init__(self,d) -> None:\n",
    "        self.domain = d\n",
    "\n",
    "\n",
    "d = Domain()\n",
    "\n",
    "d.step_time()\n",
    "\n",
    "d.value\n",
    "d.step_time()\n",
    "\n",
    "d.value"
   ]
  },
  {
   "cell_type": "code",
   "execution_count": 31,
   "metadata": {},
   "outputs": [
    {
     "name": "stdout",
     "output_type": "stream",
     "text": [
      "[[ 8 10]\n",
      " [10 12]]\n",
      "{'b': slice(None, None, None), 'a': slice(None, None, None)}\n"
     ]
    },
    {
     "data": {
      "text/plain": [
       "(slice(None, None, None), slice(None, None, None))"
      ]
     },
     "execution_count": 31,
     "metadata": {},
     "output_type": "execute_result"
    }
   ],
   "source": [
    "import numpy as np\n",
    "import numexpr\n",
    "\n",
    "result = numexpr.evaluate(\"a+b\",{\"a\":np.array([[4,5],[5,6]]),\\\n",
    "                                \"b\":np.array([[4,5],[5,6]])})\n",
    "print(result)\n",
    "axes = (\"b\",\"a\")\n",
    "\n",
    "data = np.array([[3,4],[5,6]])\n",
    "\n",
    "\n",
    "def idxs_tuple(idxs):\n",
    "\n",
    "    idxs_filled = dict()\n",
    "\n",
    "    for axis in axes:\n",
    "        if axis not in idxs.keys():\n",
    "            idxs_filled[axis] = slice(None)\n",
    "        else:\n",
    "            idxs_filled[axis] = idxs[axis]\n",
    "\n",
    "    print(idxs_filled)\n",
    "\n",
    "\n",
    "\n",
    "    return tuple(idxs_filled[axis] for axis in axes)\n",
    "\n",
    "\n",
    "def get(idxs):\n",
    "\n",
    "    return data[idxs_tuple(idxs)]\n",
    "\n",
    "\n",
    "def set(idxs,values):\n",
    "    # used for: setting to values for an expression (initial conditions)\n",
    "    # setting boundary condition, constant array would be constructed\n",
    "    # updating timestep\n",
    "    data[idxs_tuple(idxs)] = values\n",
    "\n",
    "\n",
    "\n",
    "def set_expression(idxs,expression):\n",
    "    numexpr\n",
    "\n",
    "idxs_tuple({})\n",
    "\n"
   ]
  },
  {
   "cell_type": "code",
   "execution_count": 27,
   "metadata": {},
   "outputs": [
    {
     "data": {
      "text/plain": [
       "[[3, 3, 4, 4], [5, 6, 5, 6]]"
      ]
     },
     "execution_count": 27,
     "metadata": {},
     "output_type": "execute_result"
    }
   ],
   "source": [
    "\n",
    "def transpose(nested_list):\n",
    "    transposed_list = [[row[i] for row in nested_list] for i in range(len(nested_list[0]))]\n",
    "    return transposed_list\n",
    "import itertools\n",
    "\n",
    "substitute_axes_values = [[3,4],[5,6]]\n",
    "\n",
    "value_combs = transpose([list(comb) for comb in itertools.product(*substitute_axes_values)])\n",
    "\n",
    "value_combs"
   ]
  },
  {
   "cell_type": "code",
   "execution_count": 35,
   "metadata": {},
   "outputs": [
    {
     "data": {
      "text/plain": [
       "array([[0, 0, 0, 0],\n",
       "       [0, 0, 0, 0],\n",
       "       [0, 0, 0, 0]], dtype=object)"
      ]
     },
     "execution_count": 35,
     "metadata": {},
     "output_type": "execute_result"
    }
   ],
   "source": [
    "np.reshape([3,4,5,6,7,8],[2,3])\n",
    "\n",
    "np.zeros([3,4],dtype=\"object\")"
   ]
  },
  {
   "cell_type": "code",
   "execution_count": 38,
   "metadata": {},
   "outputs": [
    {
     "data": {
      "text/plain": [
       "array([[0, 0, 0, 0],\n",
       "       [0, 0, 0, 0],\n",
       "       [0, 0, 0, 0]], dtype=object)"
      ]
     },
     "execution_count": 38,
     "metadata": {},
     "output_type": "execute_result"
    }
   ],
   "source": [
    "np.full((3,4),0,dtype=\"object\")"
   ]
  }
 ],
 "metadata": {
  "kernelspec": {
   "display_name": "Python 3",
   "language": "python",
   "name": "python3"
  },
  "language_info": {
   "codemirror_mode": {
    "name": "ipython",
    "version": 3
   },
   "file_extension": ".py",
   "mimetype": "text/x-python",
   "name": "python",
   "nbconvert_exporter": "python",
   "pygments_lexer": "ipython3",
   "version": "3.10.5"
  },
  "orig_nbformat": 4
 },
 "nbformat": 4,
 "nbformat_minor": 2
}
