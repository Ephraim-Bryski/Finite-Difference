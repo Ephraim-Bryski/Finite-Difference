{
 "cells": [
  {
   "cell_type": "code",
   "execution_count": 17,
   "metadata": {},
   "outputs": [
    {
     "data": {
      "text/plain": [
       "array([-2.,  1.,  3., -5.,  3., -2.])"
      ]
     },
     "execution_count": 17,
     "metadata": {},
     "output_type": "execute_result"
    }
   ],
   "source": [
    "import numpy as np\n",
    "\n",
    "periodic = True\n",
    "\n",
    "from_edge = False\n",
    "to_edge = True\n",
    "\n",
    "axis = 0\n",
    "\n",
    "a = np.array([3,4,7,2,5])\n",
    "a1 = np.roll(a,1)\n",
    "\n",
    "\n",
    "shape = list(a.shape)\n",
    "\n",
    "\n",
    "if from_edge and not to_edge:\n",
    "    change = -1\n",
    "elif not from_edge and to_edge:\n",
    "    change = 1\n",
    "else:\n",
    "    change = 0\n",
    "\n",
    "shape[axis]+=change\n",
    "\n",
    "diff = np.zeros(tuple(shape))\n",
    "\n",
    "\n",
    "\n",
    "if to_edge and periodic:\n",
    "    diff_slice = slice(-1)\n",
    "else:\n",
    "    diff_slice = slice(None)\n",
    "\n",
    "\n",
    "if from_edge and periodic:\n",
    "    # this needs to be done BEFORE rolling\n",
    "    cut_slice = slice(-1)\n",
    "else:\n",
    "    cut_slice = slice(None)\n",
    "\n",
    "\n",
    "diff[diff_slice]+=a[cut_slice]\n",
    "diff[diff_slice]-=a1[cut_slice]\n",
    "\n",
    "\n",
    "if to_edge and periodic:\n",
    "    diff[-1] = diff[0]\n",
    "\n",
    "if to_edge and not periodic:\n",
    "    diff[-1] = np.nan # this can be incorrect if the kernel is asymmetric but OK for now\n",
    "\n",
    "\n",
    "\n",
    "diff"
   ]
  },
  {
   "cell_type": "code",
   "execution_count": 27,
   "metadata": {},
   "outputs": [
    {
     "data": {
      "text/plain": [
       "array([4, 2, 9])"
      ]
     },
     "execution_count": 27,
     "metadata": {},
     "output_type": "execute_result"
    }
   ],
   "source": [
    "a = np.array([3,4,2,9])\n",
    "\n",
    "a[1:4]"
   ]
  },
  {
   "cell_type": "code",
   "execution_count": 40,
   "metadata": {},
   "outputs": [
    {
     "name": "stdout",
     "output_type": "stream",
     "text": [
      "object: 0.5840003490447998\n",
      "float: 0.02509903907775879\n"
     ]
    }
   ],
   "source": [
    "import time\n",
    "\n",
    "n_times = 10000\n",
    "shape = (100,100)\n",
    "\n",
    "A_obj = np.ones(shape,dtype=\"object\")\n",
    "A = np.full(shape,np.nan)\n",
    "\n",
    "def timeit(f,name):\n",
    "    start = time.time()\n",
    "    f()\n",
    "    end = time.time()\n",
    "    print(f\"{name}: {end-start}\")\n",
    "\n",
    "def obj_calc():\n",
    "    for _ in range(n_times):\n",
    "        A_obj*0\n",
    "\n",
    "\n",
    "\n",
    "def float_calc():\n",
    "    for _ in range(n_times):\n",
    "        A*0\n",
    "\n",
    "\n",
    "\n",
    "timeit(obj_calc,\"object\")\n",
    "\n",
    "timeit(float_calc,\"float\")\n"
   ]
  }
 ],
 "metadata": {
  "kernelspec": {
   "display_name": "Python 3",
   "language": "python",
   "name": "python3"
  },
  "language_info": {
   "codemirror_mode": {
    "name": "ipython",
    "version": 3
   },
   "file_extension": ".py",
   "mimetype": "text/x-python",
   "name": "python",
   "nbconvert_exporter": "python",
   "pygments_lexer": "ipython3",
   "version": "3.11.3"
  },
  "orig_nbformat": 4
 },
 "nbformat": 4,
 "nbformat_minor": 2
}
