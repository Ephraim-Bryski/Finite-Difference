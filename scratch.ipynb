{
 "cells": [
  {
   "cell_type": "code",
   "execution_count": 73,
   "metadata": {},
   "outputs": [
    {
     "name": "stdout",
     "output_type": "stream",
     "text": [
      "Called by another function\n",
      "Called by itself\n"
     ]
    }
   ],
   "source": [
    "import inspect\n",
    "\n",
    "def my_function():\n",
    "    frame = inspect.currentframe()\n",
    "    caller_frame = frame.f_back\n",
    "\n",
    "    if caller_frame is not None and caller_frame.f_code.co_name == my_function.__name__:\n",
    "        print(\"Called by itself\")\n",
    "    else:\n",
    "        print(\"Called by another function\")\n",
    "        my_function()\n",
    "# Call the function\n",
    "#my_function()  # Output: Called by another function\n",
    "\n",
    "# Call the function recursively\n",
    "my_function()  # Output: Called by itself\n"
   ]
  },
  {
   "cell_type": "code",
   "execution_count": 93,
   "metadata": {},
   "outputs": [
    {
     "name": "stdout",
     "output_type": "stream",
     "text": [
      "Nothing done.\n"
     ]
    },
    {
     "name": "stderr",
     "output_type": "stream",
     "text": [
      "c:\\Users\\Ephraim\\GitHub\\Finite-Difference\\FD.py:713: Warning: Overriding values\n",
      "  \n"
     ]
    },
    {
     "name": "stdout",
     "output_type": "stream",
     "text": [
      "Finite approximation: f' = [-f(x-0.5h) + f(x+0.5h)] / [h^1]\n",
      "Finite approximation: f' = [-f(x-0.5h) + f(x+0.5h)] / [h^1]\n"
     ]
    },
    {
     "data": {
      "application/vnd.jupyter.widget-view+json": {
       "model_id": "2551d952134341f3af6ad26960bda453",
       "version_major": 2,
       "version_minor": 0
      },
      "text/plain": [
       "interactive(children=(Dropdown(description='Field', options=('u dot', 'u', 'v dot', 'v', 'eta dot', 'eta'), va…"
      ]
     },
     "metadata": {},
     "output_type": "display_data"
    },
    {
     "data": {
      "application/vnd.jupyter.widget-view+json": {
       "model_id": "9bcc765ba2f64465861adb3b6fb3ce5c",
       "version_major": 2,
       "version_minor": 0
      },
      "image/png": "[encoded data removed]",
      "text/html": [
       "\n",
       "            <div style=\"display: inline-block;\">\n",
       "                <div class=\"jupyter-widgets widget-label\" style=\"text-align: center;\">\n",
       "                    Figure\n",
       "                </div>\n",
       "                <img src='data:image/png;base64,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' width=600.0/>\n",
       "            </div>\n",
       "        "
      ],
      "text/plain": [
       "Canvas(toolbar=Toolbar(toolitems=[('Home', 'Reset original view', 'home', 'home'), ('Back', 'Back to previous …"
      ]
     },
     "metadata": {},
     "output_type": "display_data"
    }
   ],
   "source": [
    "import FD as FD\n",
    "\n",
    "import numpy as np\n",
    "\n",
    "import imp\n",
    "imp.reload(FD)\n",
    "%reset\n",
    "\n",
    "\n",
    "\n",
    "m = FD.Model(\n",
    "    {\"x\":np.linspace(-5,5,100),\n",
    "     \"y\":np.linspace(-5,5,100),\n",
    "     \"t\":range(0,200)},\n",
    "     periodic=[\"y\"],\n",
    "     time_axis=\"t\"\n",
    ")\n",
    "\n",
    "\n",
    "u = FD.Field(m,\"u\",edge_axes=\"x\",n_time_ders=1)\n",
    "v = FD.Field(m,\"v\",edge_axes=\"y\",n_time_ders=1)\n",
    "\n",
    "eta = FD.Field(m,\"eta\",n_time_ders=1)\n",
    "\n",
    "\n",
    "u.set_BC(\"0\",\"x\",\"start\")\n",
    "u.set_BC(\"0\",\"x\",\"end\")\n",
    "\n",
    "#u.set_BC(\"0\",\"y\",\"start\")\n",
    "#u.set_BC(\"0\",\"y\",\"end\")\n",
    "\n",
    "\n",
    "eta.set_IC(\"exp(-(x-2)**2-(y-2)**2)\")\n",
    "u.set_IC(\"0\")\n",
    "v.set_IC(\"0\")\n",
    "\n",
    "#dudx = Field(m)\n",
    "#dudy = Field(m)\n",
    "\n",
    "c_e = FD.Stencil([-1/2,1/2],1,axis_type=\"cell\",der_axis_type=\"edge\")\n",
    "e_c = FD.Stencil([-1/2,1/2],1,axis_type=\"edge\",der_axis_type=\"cell\")\n",
    "\n",
    "\n",
    "cx = .1\n",
    "cy = .1\n",
    "\n",
    "g = .1\n",
    "h = 1\n",
    "\n",
    "while not m.finished:\n",
    "    detadx = c_e.der(eta.prev,\"x\") # required to write u.prev\n",
    "\n",
    "    detady = c_e.der(eta.prev,\"y\")\n",
    "\n",
    "    u.dot.assign_update(g*detadx)\n",
    "\n",
    "    v.dot.assign_update(g*detady)\n",
    "\n",
    "    u.time_integrate_update()\n",
    "    v.time_integrate_update()\n",
    "\n",
    "    dudx = e_c.der(u.new,\"x\")\n",
    "    dvdy = e_c.der(v.new,\"y\")\n",
    "\n",
    "    eta.dot.assign_update(h*dudx+h*dvdy)\n",
    "\n",
    "\n",
    "    eta.time_integrate_update()\n",
    "\n",
    "    m.increment_time()\n",
    "\n",
    "m.interact()\n",
    "\n"
   ]
  }
 ],
 "metadata": {
  "kernelspec": {
   "display_name": "Python 3",
   "language": "python",
   "name": "python3"
  },
  "language_info": {
   "codemirror_mode": {
    "name": "ipython",
    "version": 3
   },
   "file_extension": ".py",
   "mimetype": "text/x-python",
   "name": "python",
   "nbconvert_exporter": "python",
   "pygments_lexer": "ipython3",
   "version": "3.11.3"
  },
  "orig_nbformat": 4,
  "stencilspec": {
   "display_name": "Python 3",
   "language": "python",
   "name": "python3"
  }
 },
 "nbformat": 4,
 "nbformat_minor": 2
}
