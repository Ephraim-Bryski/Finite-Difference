{
 "cells": [
  {
   "cell_type": "code",
   "execution_count": 13,
   "metadata": {},
   "outputs": [
    {
     "data": {
      "text/plain": [
       "array([?, ?, ?, ?, ?, ?], dtype=object)"
      ]
     },
     "execution_count": 13,
     "metadata": {},
     "output_type": "execute_result"
    }
   ],
   "source": [
    "import numpy as np\n",
    "\n",
    "class Unknown:\n",
    "    def __init__(self) -> None:\n",
    "        pass\n",
    "    def __repr__(self) -> str:\n",
    "        return \"?\"\n",
    "    def __add__(self,_):\n",
    "        return self\n",
    "    def __sub__(self,_):\n",
    "        return self\n",
    "\n",
    "axis = 0\n",
    "\n",
    "a = np.array([3,4,7,2,5])\n",
    "\n",
    "a1 = np.roll(a,1)\n",
    "\n",
    "edge_shape = list(a.shape)\n",
    "edge_shape[axis]+=1\n",
    "\n",
    "diff = np.full(tuple(edge_shape),Unknown(),dtype=\"object\")\n",
    "\n",
    "\n",
    "diff[1:]+=a\n",
    "diff[1:]-=a1\n",
    "\n",
    "diff"
   ]
  },
  {
   "cell_type": "code",
   "execution_count": 14,
   "metadata": {},
   "outputs": [],
   "source": [
    "class Unknown:\n",
    "    def __init__(self):\n",
    "        pass\n",
    "\n",
    "    def __repr__(self):\n",
    "        return \"?\"\n",
    "\n",
    "    def __neg__(self):\n",
    "        return self\n",
    "        \n",
    "    def __add__(self,_):\n",
    "        return self\n",
    "    \n",
    "    def __sub__(self,_):\n",
    "        return self\n",
    "        \n",
    "    def __mul__(self,_):\n",
    "        return self\n",
    "\n",
    "    def __truediv__(self,_):\n",
    "        return self\n",
    "   \n",
    "    def __pow__(self,_):\n",
    "        return self\n",
    "    \n",
    "    def __radd__(self,_):\n",
    "        return self\n",
    "    \n",
    "    def __rsub__(self,_):\n",
    "        return self\n",
    "    \n",
    "    def __rmul__(self,_):\n",
    "        return self\n",
    "    \n",
    "    def __rtruediv__(self,_):\n",
    "        raise self\n",
    "    \n",
    "    def __rpow__(self,_):\n",
    "        raise self\n",
    "\n",
    "    def __lt__(self,_):\n",
    "        return False"
   ]
  },
  {
   "cell_type": "code",
   "execution_count": 40,
   "metadata": {},
   "outputs": [
    {
     "name": "stdout",
     "output_type": "stream",
     "text": [
      "object: 0.5840003490447998\n",
      "float: 0.02509903907775879\n"
     ]
    }
   ],
   "source": [
    "import time\n",
    "\n",
    "n_times = 10000\n",
    "shape = (100,100)\n",
    "\n",
    "A_obj = np.ones(shape,dtype=\"object\")\n",
    "A = np.full(shape,np.nan)\n",
    "\n",
    "def timeit(f,name):\n",
    "    start = time.time()\n",
    "    f()\n",
    "    end = time.time()\n",
    "    print(f\"{name}: {end-start}\")\n",
    "\n",
    "def obj_calc():\n",
    "    for _ in range(n_times):\n",
    "        A_obj*0\n",
    "\n",
    "\n",
    "\n",
    "def float_calc():\n",
    "    for _ in range(n_times):\n",
    "        A*0\n",
    "\n",
    "\n",
    "\n",
    "timeit(obj_calc,\"object\")\n",
    "\n",
    "timeit(float_calc,\"float\")\n"
   ]
  },
  {
   "cell_type": "code",
   "execution_count": 47,
   "metadata": {},
   "outputs": [
    {
     "ename": "TypeError",
     "evalue": "ufunc 'isfinite' not supported for the input types, and the inputs could not be safely coerced to any supported types according to the casting rule ''safe''",
     "output_type": "error",
     "traceback": [
      "\u001b[1;31m---------------------------------------------------------------------------\u001b[0m",
      "\u001b[1;31mTypeError\u001b[0m                                 Traceback (most recent call last)",
      "Cell \u001b[1;32mIn[47], line 4\u001b[0m\n\u001b[0;32m      1\u001b[0m \u001b[39mimport\u001b[39;00m \u001b[39mnumpy\u001b[39;00m \u001b[39mas\u001b[39;00m \u001b[39mnp\u001b[39;00m\n\u001b[0;32m      3\u001b[0m x \u001b[39m=\u001b[39m np\u001b[39m.\u001b[39marray([[np\u001b[39m.\u001b[39mnan, \u001b[39m3.14\u001b[39m, np\u001b[39m.\u001b[39mnan]],dtype\u001b[39m=\u001b[39m\u001b[39m\"\u001b[39m\u001b[39mobject\u001b[39m\u001b[39m\"\u001b[39m)\n\u001b[1;32m----> 4\u001b[0m mx \u001b[39m=\u001b[39m np\u001b[39m.\u001b[39;49mma\u001b[39m.\u001b[39;49mmasked_invalid(x)\n\u001b[0;32m      6\u001b[0m mx\u001b[39m.\u001b[39mmask\n",
      "File \u001b[1;32mc:\\Users\\Ephraim\\AppData\\Local\\Programs\\Python\\Python311\\Lib\\site-packages\\numpy\\ma\\core.py:2360\u001b[0m, in \u001b[0;36mmasked_invalid\u001b[1;34m(a, copy)\u001b[0m\n\u001b[0;32m   2333\u001b[0m \u001b[39m\u001b[39m\u001b[39m\"\"\"\u001b[39;00m\n\u001b[0;32m   2334\u001b[0m \u001b[39mMask an array where invalid values occur (NaNs or infs).\u001b[39;00m\n\u001b[0;32m   2335\u001b[0m \n\u001b[1;32m   (...)\u001b[0m\n\u001b[0;32m   2357\u001b[0m \n\u001b[0;32m   2358\u001b[0m \u001b[39m\"\"\"\u001b[39;00m\n\u001b[0;32m   2359\u001b[0m a \u001b[39m=\u001b[39m np\u001b[39m.\u001b[39marray(a, copy\u001b[39m=\u001b[39m\u001b[39mFalse\u001b[39;00m, subok\u001b[39m=\u001b[39m\u001b[39mTrue\u001b[39;00m)\n\u001b[1;32m-> 2360\u001b[0m res \u001b[39m=\u001b[39m masked_where(\u001b[39m~\u001b[39m(np\u001b[39m.\u001b[39;49misfinite(a)), a, copy\u001b[39m=\u001b[39mcopy)\n\u001b[0;32m   2361\u001b[0m \u001b[39m# masked_invalid previously never returned nomask as a mask and doing so\u001b[39;00m\n\u001b[0;32m   2362\u001b[0m \u001b[39m# threw off matplotlib (gh-22842).  So use shrink=False:\u001b[39;00m\n\u001b[0;32m   2363\u001b[0m \u001b[39mif\u001b[39;00m res\u001b[39m.\u001b[39m_mask \u001b[39mis\u001b[39;00m nomask:\n",
      "\u001b[1;31mTypeError\u001b[0m: ufunc 'isfinite' not supported for the input types, and the inputs could not be safely coerced to any supported types according to the casting rule ''safe''"
     ]
    }
   ],
   "source": [
    "import numpy as np\n",
    "\n",
    "x = np.array([[np.nan, 3.14, np.nan]],dtype=\"object\")\n",
    "mx = np.ma.masked_invalid(x)\n",
    "\n",
    "mx.mask"
   ]
  }
 ],
 "metadata": {
  "kernelspec": {
   "display_name": "Python 3",
   "language": "python",
   "name": "python3"
  },
  "language_info": {
   "codemirror_mode": {
    "name": "ipython",
    "version": 3
   },
   "file_extension": ".py",
   "mimetype": "text/x-python",
   "name": "python",
   "nbconvert_exporter": "python",
   "pygments_lexer": "ipython3",
   "version": "3.11.3"
  },
  "orig_nbformat": 4
 },
 "nbformat": 4,
 "nbformat_minor": 2
}
