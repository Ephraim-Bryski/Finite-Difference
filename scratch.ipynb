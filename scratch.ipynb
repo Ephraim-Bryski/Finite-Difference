{
 "cells": [
  {
   "cell_type": "code",
   "execution_count": 28,
   "metadata": {},
   "outputs": [
    {
     "name": "stdout",
     "output_type": "stream",
     "text": [
      "[[[0. 0. 0. 0. 0. 0. 0. 0. 0. 0.]\n",
      "  [0. 0. 0. 0. 0. 0. 0. 0. 0. 0.]\n",
      "  [0. 0. 0. 0. 0. 0. 0. 0. 0. 0.]\n",
      "  [0. 0. 0. 0. 0. 0. 0. 0. 0. 0.]\n",
      "  [0. 0. 0. 0. 0. 0. 0. 0. 0. 0.]\n",
      "  [0. 0. 0. 0. 0. 0. 0. 0. 0. 0.]\n",
      "  [0. 0. 0. 0. 0. 0. 0. 0. 0. 0.]\n",
      "  [0. 0. 0. 0. 0. 0. 0. 0. 0. 0.]]]\n"
     ]
    },
    {
     "data": {
      "text/plain": [
       "array([[[ 1, -2,  1]]])"
      ]
     },
     "execution_count": 28,
     "metadata": {},
     "output_type": "execute_result"
    }
   ],
   "source": [
    "import numpy as np\n",
    "\n",
    "from scipy import signal\n",
    "\n",
    "A = np.full((4,5,10),1)\n",
    "\n",
    "A[-1]\n",
    "\n",
    "M = np.zeros((1,10,10))\n",
    "\n",
    "k1 = np.zeros((1, 1, 3))\n",
    "\n",
    "vals = [1,-2,1]\n",
    "kernel = np.array(vals).reshape((1,1,3))\n",
    "\n",
    "k2 = np.zeros((1, 3, 1))\n",
    "\n",
    "A = signal.convolve(M,k2,mode='valid')\n",
    "\n",
    "print(A)\n",
    "\n",
    "kernel"
   ]
  },
  {
   "cell_type": "code",
   "execution_count": 9,
   "metadata": {},
   "outputs": [
    {
     "name": "stdout",
     "output_type": "stream",
     "text": [
      "54.28317121541222\n"
     ]
    }
   ],
   "source": [
    "import time\n",
    "import numpy as np\n",
    "from scipy import signal\n",
    "from scipy import ndimage\n",
    "\n",
    "vals = np.matrix([[1,-2,1]])\n",
    "\n",
    "#data = np.linspace(0,1,10**8)**3\n",
    "\n",
    "data = np.ones((100,100))\n",
    "\n",
    "\n",
    "n_times = 1000\n",
    "\n",
    "\n",
    "\n",
    "start = time.time()\n",
    "\n",
    "for i in range(n_times):\n",
    "    a = signal.convolve(data,vals,mode='valid')\n",
    "\n",
    "mid = time.time()\n",
    "\n",
    "for i in range(n_times):\n",
    "    new = data[2:]-2*data[1:-1]+data[0:-2]\n",
    "\n",
    "\n",
    "\n",
    "\n",
    "\n",
    "end = time.time()\n",
    "\n",
    "\n",
    "\n",
    "convolve_time = mid-start\n",
    "simple_time = end-mid\n",
    "\n",
    "print(convolve_time/simple_time)\n",
    "\n",
    "\n",
    "\n"
   ]
  },
  {
   "cell_type": "code",
   "execution_count": 54,
   "metadata": {},
   "outputs": [
    {
     "name": "stdout",
     "output_type": "stream",
     "text": [
      "[ 9 12 24 27  6]\n",
      "[4 8 9 2 1]\n",
      "[16 18  4  2 10]\n"
     ]
    },
    {
     "data": {
      "text/plain": [
       "array([], dtype=int32)"
      ]
     },
     "execution_count": 54,
     "metadata": {},
     "output_type": "execute_result"
    }
   ],
   "source": [
    "import numpy as np\n",
    "\n",
    "# TODO expand this to multiple dimensions\n",
    "\n",
    "kernel = {-1:3,  0:1,    1:2}\n",
    "\n",
    "data = np.array([3,4,8,9,2,1,5])\n",
    "\n",
    "pairs = zip(kernel,kernel.values())\n",
    "\n",
    "shifts = list(kernel.keys())\n",
    "\n",
    "min_shift = shifts[0]\n",
    "max_shift = shifts[-1]\n",
    "\n",
    "\n",
    "new_length = len(data)+min_shift-max_shift\n",
    "\n",
    "diff_data = np.zeros((1,new_length))\n",
    "\n",
    "for pair in pairs:\n",
    "    shift = pair[0]\n",
    "    weight = pair[1]\n",
    "\n",
    "    upper = shift-max_shift\n",
    "\n",
    "    if upper==0:\n",
    "        upper = data.size\n",
    "\n",
    "    component = weight*data[shift-min_shift:upper]\n",
    "    print(component)\n",
    "    diff_data+= component\n",
    "data[1:-1]\n",
    "data[shift-min_shift:shift-max_shift]"
   ]
  },
  {
   "cell_type": "code",
   "execution_count": 55,
   "metadata": {},
   "outputs": [
    {
     "name": "stdout",
     "output_type": "stream",
     "text": [
      "[[0 0 0 0 0 0]\n",
      " [0 0 0 0 0 0]\n",
      " [0 0 0 0 0 0]]\n"
     ]
    },
    {
     "data": {
      "text/plain": [
       "array([[?, ?, ?, ?, ?, ?],\n",
       "       [0, 0, 0, 0, 0, 0],\n",
       "       [?, ?, ?, ?, ?, ?]], dtype=object)"
      ]
     },
     "execution_count": 55,
     "metadata": {},
     "output_type": "execute_result"
    }
   ],
   "source": [
    "\n",
    "import numpy as np\n",
    "\n",
    "class Unknown:\n",
    "    def __init__(self) -> None:\n",
    "        pass\n",
    "    def __repr__(self) -> str:\n",
    "        return \"?\"\n",
    "\n",
    "\n",
    "periodic = False\n",
    "\n",
    "a = np.array([[0,1,2,3,4,5],[0,1,2,3,4,5],[0,1,2,3,4,5]],dtype=\"object\")**3+10\n",
    "\n",
    "kernel = {-1:1,  0:-2,    1:1}\n",
    "\n",
    "kernel_axis = 0\n",
    "\n",
    "\n",
    "\n",
    "n_axes = len(a.shape)\n",
    "\n",
    "\n",
    "kernel_axis_len = a.shape[kernel_axis]\n",
    "\n",
    "shifts = list(kernel.keys())\n",
    "weights = list(kernel.values())\n",
    "\n",
    "diff = np.zeros(a.shape,dtype=\"object\")\n",
    "\n",
    "for i in range(len(kernel)):\n",
    "    diff+=weights[i]*np.roll(a,shifts[i],axis=kernel_axis)\n",
    "\n",
    "left_cut = -shifts[0]\n",
    "right_cut = shifts[-1]\n",
    "\n",
    "print(diff)\n",
    "\n",
    "start_idxs = [slice(None)]*n_axes\n",
    "start_idxs[kernel_axis] = slice(0,left_cut)\n",
    "\n",
    "end_idxs = [slice(None)]*n_axes\n",
    "end_idxs[kernel_axis] = slice(kernel_axis_len-right_cut,kernel_axis_len)\n",
    "\n",
    "\n",
    "# instead of cutting it replace the extra ones with Unknowns\n",
    "if not periodic:\n",
    "    \n",
    "    diff[tuple(start_idxs)] = Unknown()\n",
    "    diff[tuple(end_idxs)] = Unknown()\n",
    "\n",
    "diff\n",
    "\n",
    "diff"
   ]
  },
  {
   "cell_type": "code",
   "execution_count": 32,
   "metadata": {},
   "outputs": [
    {
     "name": "stdout",
     "output_type": "stream",
     "text": [
      "[[[1 2]\n",
      "  [3 4]]\n",
      "\n",
      " [[5 6]\n",
      "  [7 8]]]\n",
      "[slice(None, None, None), slice(0, 1, None), slice(None, None, None)]\n",
      "[[[1 2]]\n",
      "\n",
      " [[5 6]]]\n"
     ]
    }
   ],
   "source": [
    "import numpy as np\n",
    "\n",
    "def get_values_at_index(array, index, dimension):\n",
    "    # Get the shape of the array\n",
    "    shape = array.shape\n",
    "\n",
    "    # Create an indexing tuple to access the desired elements\n",
    "    indexing_tuple = [slice(None)] * len(shape)\n",
    "    indexing_tuple[dimension] = slice(0,index)\n",
    "\n",
    "    print(indexing_tuple)\n",
    "    # Use the indexing tuple to access the elements at the specified index\n",
    "    values = array[tuple(indexing_tuple)]\n",
    "\n",
    "    return values\n",
    "\n",
    "\n",
    "\n",
    "# Create a 3-dimensional numpy array\n",
    "arr = np.array([[[1, 2], [3, 4]], [[5, 6], [7, 8]]])\n",
    "print(arr)\n",
    "# Get the values at index 1 along dimension 0\n",
    "result = get_values_at_index(arr, 1, 1)\n",
    "\n",
    "print(result)  # Output: [[5 6]\n",
    "               #          [7 8]]\n"
   ]
  },
  {
   "cell_type": "code",
   "execution_count": 6,
   "metadata": {},
   "outputs": [
    {
     "data": {
      "text/plain": [
       "5"
      ]
     },
     "execution_count": 6,
     "metadata": {},
     "output_type": "execute_result"
    }
   ],
   "source": [
    "import numpy as np\n",
    "a = np.zeros((3,1))\n",
    "b = np.array([3,2,5,6])\n",
    "b[-2]"
   ]
  }
 ],
 "metadata": {
  "kernelspec": {
   "display_name": "Python 3",
   "language": "python",
   "name": "python3"
  },
  "language_info": {
   "codemirror_mode": {
    "name": "ipython",
    "version": 3
   },
   "file_extension": ".py",
   "mimetype": "text/x-python",
   "name": "python",
   "nbconvert_exporter": "python",
   "pygments_lexer": "ipython3",
   "version": "3.11.3"
  },
  "orig_nbformat": 4
 },
 "nbformat": 4,
 "nbformat_minor": 2
}
