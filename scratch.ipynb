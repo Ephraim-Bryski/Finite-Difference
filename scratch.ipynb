{
 "cells": [
  {
   "cell_type": "code",
   "execution_count": 52,
   "metadata": {},
   "outputs": [
    {
     "data": {
      "text/plain": [
       "3"
      ]
     },
     "execution_count": 52,
     "metadata": {},
     "output_type": "execute_result"
    }
   ],
   "source": [
    "class Dimension:\n",
    "    def __init__(self,val):\n",
    "        self.val = val\n",
    "\n",
    "class Tensor:\n",
    "    def __init__(self,dim,txt):\n",
    "        self.dim = dim\n",
    "        self.txt = txt\n",
    "\n",
    "\n",
    "\n",
    "d1 = Dimension(3)\n",
    "\n",
    "d2 = Dimension(3)\n",
    "\n",
    "t1 = Tensor(d1,\"first\")\n",
    "t2 = Tensor(d1,\"second\")\n",
    "\n",
    "\n",
    "d.val = 4\n",
    "\n",
    "t1.dim.val"
   ]
  },
  {
   "cell_type": "code",
   "execution_count": 75,
   "metadata": {},
   "outputs": [
    {
     "name": "stdout",
     "output_type": "stream",
     "text": [
      "HI\n",
      "YO\n"
     ]
    }
   ],
   "source": [
    "class A:\n",
    "    def __init__(self,dims,s**kwargs):\n",
    "\n",
    "    def __add__(self,other):\n",
    "        print(\"YO\")\n",
    "    \n",
    "\n",
    "class B:\n",
    "    def __add__(self,other):\n",
    "        print(\"HI\")\n",
    "\n",
    "    def __radd__(self,other):\n",
    "        print(\"OTHER WAY\")\n",
    "\n",
    "a = A() \n",
    "b = B()\n",
    "\n",
    "b+a\n",
    "a+b"
   ]
  },
  {
   "cell_type": "code",
   "execution_count": 40,
   "metadata": {},
   "outputs": [
    {
     "data": {
      "text/plain": [
       "array([ 0.25,  0.  , -0.5 ,  0.  ,  0.25])"
      ]
     },
     "execution_count": 40,
     "metadata": {},
     "output_type": "execute_result"
    }
   ],
   "source": [
    "from scipy import signal\n",
    "d1 = [-1/2,0,1/2]\n",
    "\n",
    "d = d1\n",
    "n_diff = 2\n",
    "for i in range(n_diff-1):\n",
    "    d = scipy.signal.convolve(d1,d)\n",
    "\n",
    "d"
   ]
  },
  {
   "cell_type": "code",
   "execution_count": 6,
   "metadata": {},
   "outputs": [
    {
     "ename": "IndexError",
     "evalue": "list index out of range",
     "output_type": "error",
     "traceback": [
      "\u001b[1;31m---------------------------------------------------------------------------\u001b[0m",
      "\u001b[1;31mIndexError\u001b[0m                                Traceback (most recent call last)",
      "\u001b[1;32mg:\\My Drive\\Tensor\\scratch.ipynb Cell 5\u001b[0m in \u001b[0;36m<cell line: 9>\u001b[1;34m()\u001b[0m\n\u001b[0;32m     <a href='vscode-notebook-cell:/g%3A/My%20Drive/Tensor/scratch.ipynb#W4sZmlsZQ%3D%3D?line=10'>11</a>\u001b[0m \u001b[39mfor\u001b[39;00m var \u001b[39min\u001b[39;00m variables:\n\u001b[0;32m     <a href='vscode-notebook-cell:/g%3A/My%20Drive/Tensor/scratch.ipynb#W4sZmlsZQ%3D%3D?line=11'>12</a>\u001b[0m     col_index, index \u001b[39m=\u001b[39m \u001b[39mdivmod\u001b[39m(index, \u001b[39mlen\u001b[39m(values[var]))\n\u001b[1;32m---> <a href='vscode-notebook-cell:/g%3A/My%20Drive/Tensor/scratch.ipynb#W4sZmlsZQ%3D%3D?line=12'>13</a>\u001b[0m     col\u001b[39m.\u001b[39mappend(values[var][col_index])\n\u001b[0;32m     <a href='vscode-notebook-cell:/g%3A/My%20Drive/Tensor/scratch.ipynb#W4sZmlsZQ%3D%3D?line=13'>14</a>\u001b[0m row \u001b[39m=\u001b[39m [\u001b[39meval\u001b[39m(expr, {}, \u001b[39mdict\u001b[39m(\u001b[39mzip\u001b[39m(variables, col)))]\n\u001b[0;32m     <a href='vscode-notebook-cell:/g%3A/My%20Drive/Tensor/scratch.ipynb#W4sZmlsZQ%3D%3D?line=14'>15</a>\u001b[0m results\u001b[39m.\u001b[39mappend(row)\n",
      "\u001b[1;31mIndexError\u001b[0m: list index out of range"
     ]
    }
   ],
   "source": [
    "import itertools\n",
    "\n",
    "expr = \"x+y+z\"\n",
    "variables = [\"x\", \"y\", \"z\"]\n",
    "values = {\"x\": [1, 2], \"y\": [3, 4], \"z\": [5, 6]}\n",
    "\n",
    "num_combinations = len(list(itertools.product(*values.values())))\n",
    "results = []\n",
    "for index in range(num_combinations):\n",
    "    col = []\n",
    "    for var in variables:\n",
    "        col_index, index = divmod(index, len(values[var]))\n",
    "        col.append(values[var][col_index])\n",
    "    row = [eval(expr, {}, dict(zip(variables, col)))]\n",
    "    results.append(row)\n",
    "\n",
    "results = [results[i:i+len(values[\"x\"])] for i in range(0, num_combinations, len(values[\"x\"]))]\n",
    "print(results) # Output: [[9, 10], [10, 11], [10, 11], [11, 12]]\n"
   ]
  },
  {
   "cell_type": "code",
   "execution_count": 3,
   "metadata": {},
   "outputs": [
    {
     "name": "stdout",
     "output_type": "stream",
     "text": [
      "[1, 3, 5, 7]\n"
     ]
    }
   ],
   "source": [
    "expr = \"x+y\"\n",
    "values = {\"x\":1, \"y\":5}\n",
    "result = eval(expr, {}, values)\n",
    "print(result) # Output: 6\n"
   ]
  },
  {
   "cell_type": "code",
   "execution_count": 41,
   "metadata": {},
   "outputs": [
    {
     "name": "stdout",
     "output_type": "stream",
     "text": [
      "{'x': [3, 3, 3, 4, 4, 4], 'y': [4, 9, 11, 4, 9, 11]}\n"
     ]
    }
   ],
   "source": [
    "import numexpr\n",
    "from sympy.parsing.sympy_parser import parse_expr, standard_transformations, implicit_multiplication_application\n",
    "import itertools\n",
    "import math\n",
    "\n",
    "def transpose(nested_list):\n",
    "    transposed_list = [[row[i] for row in nested_list] for i in range(len(nested_list[0]))]\n",
    "    return transposed_list\n",
    "\n",
    "\n",
    "class Dimension:\n",
    "    def __init__(self,name,type=None):\n",
    "        self.name = name\n",
    "        self.type = type # could be spatial or time?\n",
    "    \n",
    "    # would want to have other classes which inherit from it for space and time maybe?\n",
    "        # or could be additional property\n",
    "    # useful for talking about spatial concepts like gradient and divergence without explicitly stating the dimensions used\n",
    "    # also will have understanding of which dimension is the time dimension\n",
    "    # also will allow for construction of vector fields\n",
    "\n",
    "        \n",
    "\n",
    "\n",
    "class Domain:\n",
    "    def __init__(self,axes):\n",
    "        # dimensions is a dictionary with the dimension object and range\n",
    "\n",
    "        assert type(axes)==dict, \"axes must be input dictionary of dimensions and range of values\"\n",
    "        self.axes = axes\n",
    "\n",
    "\n",
    "        # would also have information like periodicity\n",
    "\n",
    "\n",
    "\n",
    "class Field:\n",
    "    def __init__(self,domain):\n",
    "        \n",
    "\n",
    "\n",
    "        self.domain = domain\n",
    "\n",
    "\n",
    "        axes_lengths = [len(value) for value in domain.axes.values()]\n",
    "        data_length = math.prod(axes_lengths)\n",
    "\n",
    "        \n",
    "        self.data = [None for _ in range(data_length)]\n",
    "\n",
    "\n",
    "    def set(self,expression,location={}):\n",
    "        # optional arguments for location about whether it's based on index or location (and location exact or just closes to)?\n",
    "        axes = self.domain.axes\n",
    "\n",
    "        dim_values = list(axes.values())\n",
    "        dim_names = [dim.name for dim in axes.keys()]\n",
    "\n",
    "        value_combs = transpose([list(comb) for comb in itertools.product(*dim_values)])\n",
    "        subs = dict(zip(dim_names,value_combs))\n",
    "        print(subs)\n",
    "        try:\n",
    "            data = numexpr.evaluate(expression,subs)\n",
    "        except:\n",
    "            raise Exception(\"either variable mismatch or cannot parse expression\")\n",
    "        \n",
    "\n",
    "        \n",
    "\n",
    "x = Dimension(\"x\")\n",
    "y = Dimension(\"y\")\n",
    "\n",
    "domain = Domain({x:[3,4],y:[4,9,11]})\n",
    "\n",
    "field = Field(domain).set(\"x\",location={x:1})\n",
    "\n",
    "field"
   ]
  }
 ],
 "metadata": {
  "kernelspec": {
   "display_name": "Python 3",
   "language": "python",
   "name": "python3"
  },
  "language_info": {
   "codemirror_mode": {
    "name": "ipython",
    "version": 3
   },
   "file_extension": ".py",
   "mimetype": "text/x-python",
   "name": "python",
   "nbconvert_exporter": "python",
   "pygments_lexer": "ipython3",
   "version": "3.9.12"
  },
  "orig_nbformat": 4
 },
 "nbformat": 4,
 "nbformat_minor": 2
}
