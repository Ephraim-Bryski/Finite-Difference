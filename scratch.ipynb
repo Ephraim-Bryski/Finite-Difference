{
 "cells": [
  {
   "cell_type": "code",
   "execution_count": 2,
   "metadata": {},
   "outputs": [
    {
     "name": "stdout",
     "output_type": "stream",
     "text": [
      "['a', 'c']\n",
      "[2, 3]\n"
     ]
    }
   ],
   "source": [
    "a = [\"a\",\"b\",\"c\"]\n",
    "b = [2,1,3]\n",
    "\n",
    "\n",
    "exclude = [\"b\"]\n",
    "\n",
    "\n",
    "a_cut = []\n",
    "b_cut = []\n",
    "\n",
    "for pair in zip(a,b):\n",
    "    if pair[0] not in exclude:\n",
    "        a_cut.append(pair[0])\n",
    "        b_cut.append(pair[1])\n",
    "\n",
    "print(a_cut)\n",
    "print(b_cut)"
   ]
  },
  {
   "cell_type": "code",
   "execution_count": 3,
   "metadata": {},
   "outputs": [
    {
     "name": "stdout",
     "output_type": "stream",
     "text": [
      "[1, 3, 5, 7]\n"
     ]
    }
   ],
   "source": [
    "expr = \"x+y\"\n",
    "values = {\"x\":1, \"y\":5}\n",
    "result = eval(expr, {}, values)\n",
    "print(result) # Output: 6\n"
   ]
  },
  {
   "cell_type": "code",
   "execution_count": 2,
   "metadata": {},
   "outputs": [
    {
     "data": {
      "text/plain": [
       "array([[nan,  0.,  0.],\n",
       "       [ 0.,  0.,  0.],\n",
       "       [ 0.,  0.,  0.]])"
      ]
     },
     "execution_count": 2,
     "metadata": {},
     "output_type": "execute_result"
    }
   ],
   "source": [
    "import numpy as np\n",
    "A = np.full((3,3),0.)\n",
    "A = np.zeros((3,3))\n",
    "idx = (0,0)\n",
    "A[idx] = np.nan\n",
    "A"
   ]
  },
  {
   "cell_type": "code",
   "execution_count": 6,
   "metadata": {},
   "outputs": [
    {
     "data": {
      "text/plain": [
       "(5, 4, 6)"
      ]
     },
     "execution_count": 6,
     "metadata": {},
     "output_type": "execute_result"
    }
   ],
   "source": [
    "import numpy as np\n",
    "\n",
    "d1 = {'a': 1, 'b': 2, 'c': 3}\n",
    "d2 = {'b': 4, 'a': 5, 'c': 6}\n",
    "\n",
    "d3 = {k: d2[k] for k in d1}\n",
    "d3\n",
    "tuple(d2[k] for k in d1)"
   ]
  },
  {
   "cell_type": "code",
   "execution_count": 78,
   "metadata": {},
   "outputs": [
    {
     "ename": "ValueError",
     "evalue": "matmul: Input operand 1 has a mismatch in its core dimension 0, with gufunc signature (n?,k),(k,m?)->(n?,m?) (size 1 is different from 2)",
     "output_type": "error",
     "traceback": [
      "\u001b[1;31m---------------------------------------------------------------------------\u001b[0m",
      "\u001b[1;31mValueError\u001b[0m                                Traceback (most recent call last)",
      "\u001b[1;32mc:\\Users\\brisk\\GitHub\\Finite-Difference\\scratch.ipynb Cell 5\u001b[0m in \u001b[0;36m<cell line: 14>\u001b[1;34m()\u001b[0m\n\u001b[0;32m     <a href='vscode-notebook-cell:/c%3A/Users/brisk/GitHub/Finite-Difference/scratch.ipynb#X13sZmlsZQ%3D%3D?line=10'>11</a>\u001b[0m a \u001b[39m=\u001b[39m np\u001b[39m.\u001b[39marray([(\u001b[39m3\u001b[39m,\u001b[39m4\u001b[39m)])\n\u001b[0;32m     <a href='vscode-notebook-cell:/c%3A/Users/brisk/GitHub/Finite-Difference/scratch.ipynb#X13sZmlsZQ%3D%3D?line=11'>12</a>\u001b[0m b \u001b[39m=\u001b[39m np\u001b[39m.\u001b[39marray([(\u001b[39m5\u001b[39m,\u001b[39m6\u001b[39m)])\n\u001b[1;32m---> <a href='vscode-notebook-cell:/c%3A/Users/brisk/GitHub/Finite-Difference/scratch.ipynb#X13sZmlsZQ%3D%3D?line=13'>14</a>\u001b[0m a\u001b[39m@b\u001b[39;49m\n",
      "\u001b[1;31mValueError\u001b[0m: matmul: Input operand 1 has a mismatch in its core dimension 0, with gufunc signature (n?,k),(k,m?)->(n?,m?) (size 1 is different from 2)"
     ]
    }
   ],
   "source": [
    "class Test:\n",
    "    def __init__(self):\n",
    "        pass\n",
    "\n",
    "    def __mul__(self,other):\n",
    "        return 3\n",
    "    \n",
    "    \n",
    "\n",
    "\n",
    "a = np.array([(3,4)])\n",
    "b = np.array([(5,6)])\n",
    "\n",
    "a@b"
   ]
  },
  {
   "cell_type": "code",
   "execution_count": 88,
   "metadata": {},
   "outputs": [
    {
     "name": "stdout",
     "output_type": "stream",
     "text": [
      "?\n"
     ]
    }
   ],
   "source": [
    "class Unknown:\n",
    "    def __init__(self):\n",
    "        pass\n",
    "\n",
    "    @staticmethod\n",
    "    def __multiply(value):\n",
    "        if value==0:\n",
    "            return 0\n",
    "        else:\n",
    "            return Unknown()\n",
    "                \n",
    "    def __add():\n",
    "        return Unknown()\n",
    "        \n",
    "\n",
    "\n",
    "    def __mul__(self,other):\n",
    "        return Unknown.__multiply(other)\n",
    "\n",
    "    def __rmul__(self,other):\n",
    "        return Unknown.__multiply(other)\n",
    "\n",
    "\n",
    "    def __add__(self,other):\n",
    "        return Unknown.__add()\n",
    "    \n",
    "    def __radd__(self,other):\n",
    "        return Unknown.__add()\n",
    "    \n",
    "    def __repr__(self):\n",
    "        return \"?\"\n",
    "    \n",
    "\n",
    "print(Unknown()*0*Unknown()+Unknown())"
   ]
  },
  {
   "cell_type": "code",
   "execution_count": 25,
   "metadata": {},
   "outputs": [
    {
     "data": {
      "text/plain": [
       "array([ 0,  0,  1, -4,  6, -4,  1,  0,  0])"
      ]
     },
     "execution_count": 25,
     "metadata": {},
     "output_type": "execute_result"
    }
   ],
   "source": [
    "import scipy\n",
    "from scipy import signal\n",
    "\n",
    "def kernel(derivative,order):\n",
    "    FD1_1 = [0,-1,1]\n",
    "    BD1_1 = [-1,1,0]\n",
    "    CD1_2 = [-0.5,0,0.5]\n",
    "\n",
    "\n",
    "\n",
    "    def convolve(k1,k2):\n",
    "        return scipy.signal.convolve(k1,k2)\n",
    "\n",
    "\n",
    "    if order>2\n",
    "\n",
    "    CD2_2 = convolve(FD1_1,BD1_1)\n",
    "\n",
    "    FD2_2 = convolve(FD1_1,FD1_1)\n",
    "\n",
    "    convolve(BD1_1,convolve(FD1_1,CD2_2))"
   ]
  },
  {
   "cell_type": "code",
   "execution_count": 26,
   "metadata": {},
   "outputs": [
    {
     "data": {
      "text/plain": [
       "True"
      ]
     },
     "execution_count": 26,
     "metadata": {},
     "output_type": "execute_result"
    }
   ],
   "source": [
    "(3,4)==(3,4)"
   ]
  }
 ],
 "metadata": {
  "kernelspec": {
   "display_name": "Python 3",
   "language": "python",
   "name": "python3"
  },
  "language_info": {
   "codemirror_mode": {
    "name": "ipython",
    "version": 3
   },
   "file_extension": ".py",
   "mimetype": "text/x-python",
   "name": "python",
   "nbconvert_exporter": "python",
   "pygments_lexer": "ipython3",
   "version": "3.9.12"
  },
  "orig_nbformat": 4
 },
 "nbformat": 4,
 "nbformat_minor": 2
}
