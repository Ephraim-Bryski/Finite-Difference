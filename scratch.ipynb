{
 "cells": [
  {
   "cell_type": "code",
   "execution_count": 120,
   "metadata": {},
   "outputs": [],
   "source": [
    "class Field:\n",
    "    def __init__(self,der_order):\n",
    "        # time_int should NEVER be modified in outward call\n",
    "            # could create new class that inherits from Field for time derivatives\n",
    "        if der_order>0:\n",
    "            self.dot = Field(der_order-1)\n",
    "\n",
    "        self.der_order = der_order\n",
    "\n",
    "\n",
    "        self.updated = False # this would have to be reset to False each time step --> model object must have all the fields stored\n",
    "\n",
    "    def __repr__(self):\n",
    "        return f\"{self.der_order}\"\n",
    "\n",
    "\n",
    "    def update(self):\n",
    "        assert \"dot\" not in dir(self), \"field has a derivative, need to time integrate instead\"\n",
    "        assert not self.updated, \"already been updated\"\n",
    "        self.updated = True\n",
    "\n",
    "    def time_integrate(self):\n",
    "\n",
    "\n",
    "        assert \"dot\" in dir(self), \"cant time integrate since it has no time derivatives, need to update instead\"\n",
    "        \n",
    "        f = self\n",
    "        fdot = self.dot\n",
    "\n",
    "        assert not f.updated, \"already been updated\"\n",
    "        assert fdot.updated, \"the time derivative has not yet been updated\"\n",
    "\n",
    "        # would then use fdot.now and f.previous\n",
    "\n",
    "        f.updated = True\n",
    "\n",
    "    # the update method calls the integrate_update method on the time_int field <-- time integration happens automatically\n",
    "    # or NOT, instead the user has to first update f.dot and then do time integration update on f and receives an error if f.dot has not been updated\n",
    "        # more explicit --> better (and less work for me)\n",
    "        # this way you don't need the integral stored\n"
   ]
  },
  {
   "cell_type": "code",
   "execution_count": 12,
   "metadata": {},
   "outputs": [
    {
     "name": "stdout",
     "output_type": "stream",
     "text": [
      "3\n"
     ]
    }
   ],
   "source": [
    "\n"
   ]
  }
 ],
 "metadata": {
  "kernelspec": {
   "display_name": "Python 3",
   "language": "python",
   "name": "python3"
  },
  "language_info": {
   "codemirror_mode": {
    "name": "ipython",
    "version": 3
   },
   "file_extension": ".py",
   "mimetype": "text/x-python",
   "name": "python",
   "nbconvert_exporter": "python",
   "pygments_lexer": "ipython3",
   "version": "3.11.3"
  },
  "orig_nbformat": 4,
  "stencilspec": {
   "display_name": "Python 3",
   "language": "python",
   "name": "python3"
  }
 },
 "nbformat": 4,
 "nbformat_minor": 2
}
