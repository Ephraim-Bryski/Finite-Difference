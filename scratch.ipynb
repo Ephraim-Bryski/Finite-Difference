{
 "cells": [
  {
   "cell_type": "code",
   "execution_count": 13,
   "metadata": {},
   "outputs": [
    {
     "data": {
      "text/plain": [
       "array([?, ?, ?, ?, ?, ?], dtype=object)"
      ]
     },
     "execution_count": 13,
     "metadata": {},
     "output_type": "execute_result"
    }
   ],
   "source": [
    "import numpy as np\n",
    "\n",
    "class Unknown:\n",
    "    def __init__(self) -> None:\n",
    "        pass\n",
    "    def __repr__(self) -> str:\n",
    "        return \"?\"\n",
    "    def __add__(self,_):\n",
    "        return self\n",
    "    def __sub__(self,_):\n",
    "        return self\n",
    "\n",
    "axis = 0\n",
    "\n",
    "a = np.array([3,4,7,2,5])\n",
    "\n",
    "a1 = np.roll(a,1)\n",
    "\n",
    "edge_shape = list(a.shape)\n",
    "edge_shape[axis]+=1\n",
    "\n",
    "diff = np.full(tuple(edge_shape),Unknown(),dtype=\"object\")\n",
    "\n",
    "\n",
    "diff[1:]+=a\n",
    "diff[1:]-=a1\n",
    "\n",
    "diff"
   ]
  },
  {
   "cell_type": "code",
   "execution_count": 14,
   "metadata": {},
   "outputs": [],
   "source": [
    "class Unknown:\n",
    "    def __init__(self):\n",
    "        pass\n",
    "\n",
    "    def __repr__(self):\n",
    "        return \"?\"\n",
    "\n",
    "    def __neg__(self):\n",
    "        return self\n",
    "        \n",
    "    def __add__(self,_):\n",
    "        return self\n",
    "    \n",
    "    def __sub__(self,_):\n",
    "        return self\n",
    "        \n",
    "    def __mul__(self,_):\n",
    "        return self\n",
    "\n",
    "    def __truediv__(self,_):\n",
    "        return self\n",
    "   \n",
    "    def __pow__(self,_):\n",
    "        return self\n",
    "    \n",
    "    def __radd__(self,_):\n",
    "        return self\n",
    "    \n",
    "    def __rsub__(self,_):\n",
    "        return self\n",
    "    \n",
    "    def __rmul__(self,_):\n",
    "        return self\n",
    "    \n",
    "    def __rtruediv__(self,_):\n",
    "        raise self\n",
    "    \n",
    "    def __rpow__(self,_):\n",
    "        raise self\n",
    "\n",
    "    def __lt__(self,_):\n",
    "        return False"
   ]
  },
  {
   "cell_type": "code",
   "execution_count": 40,
   "metadata": {},
   "outputs": [
    {
     "name": "stdout",
     "output_type": "stream",
     "text": [
      "object: 0.5840003490447998\n",
      "float: 0.02509903907775879\n"
     ]
    }
   ],
   "source": [
    "import time\n",
    "\n",
    "n_times = 10000\n",
    "shape = (100,100)\n",
    "\n",
    "A_obj = np.ones(shape,dtype=\"object\")\n",
    "A = np.full(shape,np.nan)\n",
    "\n",
    "def timeit(f,name):\n",
    "    start = time.time()\n",
    "    f()\n",
    "    end = time.time()\n",
    "    print(f\"{name}: {end-start}\")\n",
    "\n",
    "def obj_calc():\n",
    "    for _ in range(n_times):\n",
    "        A_obj*0\n",
    "\n",
    "\n",
    "\n",
    "def float_calc():\n",
    "    for _ in range(n_times):\n",
    "        A*0\n",
    "\n",
    "\n",
    "\n",
    "timeit(obj_calc,\"object\")\n",
    "\n",
    "timeit(float_calc,\"float\")\n"
   ]
  },
  {
   "cell_type": "code",
   "execution_count": 50,
   "metadata": {},
   "outputs": [
    {
     "name": "stdout",
     "output_type": "stream",
     "text": [
      "[[ True False  True]]\n"
     ]
    },
    {
     "data": {
      "text/plain": [
       "array([[ True, False,  True]])"
      ]
     },
     "execution_count": 50,
     "metadata": {},
     "output_type": "execute_result"
    }
   ],
   "source": [
    "import numpy as np\n",
    "\n",
    "x = np.array([[np.nan, 3.14, np.nan]],dtype=\"float64\")\n",
    "mx = np.ma.masked_invalid(x)\n",
    "\n",
    "print(mx.mask)\n",
    "np.isnan(x)"
   ]
  }
 ],
 "metadata": {
  "kernelspec": {
   "display_name": "Python 3",
   "language": "python",
   "name": "python3"
  },
  "language_info": {
   "codemirror_mode": {
    "name": "ipython",
    "version": 3
   },
   "file_extension": ".py",
   "mimetype": "text/x-python",
   "name": "python",
   "nbconvert_exporter": "python",
   "pygments_lexer": "ipython3",
   "version": "3.11.3"
  },
  "orig_nbformat": 4
 },
 "nbformat": 4,
 "nbformat_minor": 2
}
