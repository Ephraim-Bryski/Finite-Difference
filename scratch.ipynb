{
 "cells": [
  {
   "cell_type": "code",
   "execution_count": 78,
   "metadata": {},
   "outputs": [
    {
     "data": {
      "text/plain": [
       "\"f''' = [3f(x+2h) + 5f(x+4h)]/[h^3]\""
      ]
     },
     "execution_count": 78,
     "metadata": {},
     "output_type": "execute_result"
    }
   ],
   "source": []
  },
  {
   "cell_type": "code",
   "execution_count": 40,
   "metadata": {},
   "outputs": [
    {
     "name": "stdout",
     "output_type": "stream",
     "text": [
      "object: 0.5840003490447998\n",
      "float: 0.02509903907775879\n"
     ]
    }
   ],
   "source": [
    "import time\n",
    "\n",
    "n_times = 10000\n",
    "shape = (100,100)\n",
    "\n",
    "A_obj = np.ones(shape,dtype=\"object\")\n",
    "A = np.full(shape,np.nan)\n",
    "\n",
    "def timeit(f,name):\n",
    "    start = time.time()\n",
    "    f()\n",
    "    end = time.time()\n",
    "    print(f\"{name}: {end-start}\")\n",
    "\n",
    "def obj_calc():\n",
    "    for _ in range(n_times):\n",
    "        A_obj*0\n",
    "\n",
    "\n",
    "\n",
    "def float_calc():\n",
    "    for _ in range(n_times):\n",
    "        A*0\n",
    "\n",
    "\n",
    "\n",
    "timeit(obj_calc,\"object\")\n",
    "\n",
    "timeit(float_calc,\"float\")\n"
   ]
  }
 ],
 "metadata": {
  "kernelspec": {
   "display_name": "Python 3",
   "language": "python",
   "name": "python3"
  },
  "language_info": {
   "codemirror_mode": {
    "name": "ipython",
    "version": 3
   },
   "file_extension": ".py",
   "mimetype": "text/x-python",
   "name": "python",
   "nbconvert_exporter": "python",
   "pygments_lexer": "ipython3",
   "version": "3.11.3"
  },
  "orig_nbformat": 4
 },
 "nbformat": 4,
 "nbformat_minor": 2
}
